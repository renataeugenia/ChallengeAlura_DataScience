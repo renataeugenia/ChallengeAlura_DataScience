{
  "nbformat": 4,
  "nbformat_minor": 0,
  "metadata": {
    "colab": {
      "provenance": [],
      "mount_file_id": "1rA0nV1m3Ve_Cv4SshUbp41UReChKNnTx",
      "authorship_tag": "ABX9TyOIEQXfHtvMswrrQLNRLaZ/",
      "include_colab_link": true
    },
    "kernelspec": {
      "name": "python3",
      "display_name": "Python 3"
    },
    "language_info": {
      "name": "python"
    }
  },
  "cells": [
    {
      "cell_type": "markdown",
      "metadata": {
        "id": "view-in-github",
        "colab_type": "text"
      },
      "source": [
        "<a href=\"https://colab.research.google.com/github/renataeugenia/ChallengeAlura_DataScience/blob/main/Challenge_Alura_DataScience.ipynb\" target=\"_parent\"><img src=\"https://colab.research.google.com/assets/colab-badge.svg\" alt=\"Open In Colab\"/></a>"
      ]
    },
    {
      "cell_type": "markdown",
      "source": [
        "# Desafio Alura Data Science - 1º semana 21/11/2022"
      ],
      "metadata": {
        "id": "oyXN4P7jEWMd"
      }
    },
    {
      "cell_type": "code",
      "execution_count": 1,
      "metadata": {
        "id": "6KT-Ur0ZD_mD"
      },
      "outputs": [],
      "source": [
        "# instalar as dependências\n",
        "!apt-get update -qq\n",
        "!apt-get install openjdk-8-jdk-headless -qq > /dev/null\n",
        "!wget -q https://archive.apache.org/dist/spark/spark-3.1.2/spark-3.1.2-bin-hadoop2.7.tgz\n",
        "!tar xf spark-3.1.2-bin-hadoop2.7.tgz\n",
        "!pip install -q findspark"
      ]
    },
    {
      "cell_type": "code",
      "source": [
        "import os\n",
        "os.environ[\"JAVA_HOME\"] = \"/usr/lib/jvm/java-8-openjdk-amd64\"\n",
        "os.environ[\"SPARK_HOME\"] = \"/content/spark-3.1.2-bin-hadoop2.7\""
      ],
      "metadata": {
        "id": "_RunmgGpaKyp"
      },
      "execution_count": 2,
      "outputs": []
    },
    {
      "cell_type": "code",
      "source": [
        "import findspark\n",
        "findspark.init()"
      ],
      "metadata": {
        "id": "eARYr5cLaPcw"
      },
      "execution_count": 3,
      "outputs": []
    },
    {
      "cell_type": "code",
      "source": [
        "from pyspark.sql import SparkSession\n",
        "\n",
        "spark = SparkSession.builder \\\n",
        "    .master('local[*]') \\\n",
        "    .appName(\"Challenge Alura\") \\\n",
        "    .getOrCreate()"
      ],
      "metadata": {
        "id": "k8IMl_NTaavA"
      },
      "execution_count": 4,
      "outputs": []
    },
    {
      "cell_type": "code",
      "source": [
        "spark"
      ],
      "metadata": {
        "colab": {
          "base_uri": "https://localhost:8080/",
          "height": 222
        },
        "id": "E4pRvWfUb0Pw",
        "outputId": "effcf1de-182e-4ad1-f0a9-e8c18f9123e9"
      },
      "execution_count": 5,
      "outputs": [
        {
          "output_type": "execute_result",
          "data": {
            "text/plain": [
              "<pyspark.sql.session.SparkSession at 0x7fce28e706a0>"
            ],
            "text/html": [
              "\n",
              "            <div>\n",
              "                <p><b>SparkSession - in-memory</b></p>\n",
              "                \n",
              "        <div>\n",
              "            <p><b>SparkContext</b></p>\n",
              "\n",
              "            <p><a href=\"http://cdfaa96aaf3b:4040\">Spark UI</a></p>\n",
              "\n",
              "            <dl>\n",
              "              <dt>Version</dt>\n",
              "                <dd><code>v3.1.2</code></dd>\n",
              "              <dt>Master</dt>\n",
              "                <dd><code>local[*]</code></dd>\n",
              "              <dt>AppName</dt>\n",
              "                <dd><code>Challenge Alura</code></dd>\n",
              "            </dl>\n",
              "        </div>\n",
              "        \n",
              "            </div>\n",
              "        "
            ]
          },
          "metadata": {},
          "execution_count": 5
        }
      ]
    },
    {
      "cell_type": "markdown",
      "source": [
        "**card: descompactando** **arquivos**"
      ],
      "metadata": {
        "id": "_T8E9aOzXPU7"
      }
    },
    {
      "cell_type": "code",
      "source": [
        "import zipfile"
      ],
      "metadata": {
        "id": "2cgzntY8cQS-"
      },
      "execution_count": 6,
      "outputs": []
    },
    {
      "cell_type": "code",
      "source": [
        "zipfile.ZipFile('/content/drive/MyDrive/Challenge_Alura/semana-1.zip', 'r').extractall('/content/drive/MyDrive/Challenge_Alura')"
      ],
      "metadata": {
        "id": "R0i6ymryhQ7Z"
      },
      "execution_count": 7,
      "outputs": []
    },
    {
      "cell_type": "code",
      "source": [
        "path = '/content/drive/MyDrive/Challenge_Alura/dataset_bruto.json'\n",
        "dataset_bruto = spark.read.json(path)"
      ],
      "metadata": {
        "id": "lp7A6ln3iKUO"
      },
      "execution_count": 8,
      "outputs": []
    },
    {
      "cell_type": "markdown",
      "source": [
        "**card: explorando base de dados**"
      ],
      "metadata": {
        "id": "XPFNhtZeXmLC"
      }
    },
    {
      "cell_type": "code",
      "source": [
        "dataset_bruto.count()"
      ],
      "metadata": {
        "colab": {
          "base_uri": "https://localhost:8080/"
        },
        "id": "GZNjyd5ll0Y1",
        "outputId": "d1c0f76d-0d71-4b06-ef7d-de3413cbc4ec"
      },
      "execution_count": 9,
      "outputs": [
        {
          "output_type": "execute_result",
          "data": {
            "text/plain": [
              "89083"
            ]
          },
          "metadata": {},
          "execution_count": 9
        }
      ]
    },
    {
      "cell_type": "code",
      "source": [
        "dataset_bruto.limit(5).toPandas()"
      ],
      "metadata": {
        "colab": {
          "base_uri": "https://localhost:8080/",
          "height": 206
        },
        "id": "tr7vC641mtd_",
        "outputId": "5106d498-0a2c-4077-99a9-5413e7fa5d80"
      },
      "execution_count": 10,
      "outputs": [
        {
          "output_type": "execute_result",
          "data": {
            "text/plain": [
              "                                             anuncio  \\\n",
              "0  (0, [], [16], [0], [], (Centro, 20061003, Rio ...   \n",
              "1  (0, [], [14], [0], [], (Centro, 20051040, Rio ...   \n",
              "2  (0, [1026], [1026], [0], [], (Maria da Graça, ...   \n",
              "3  (0, [120], [120], [0], [Portão eletrônico, Con...   \n",
              "4  (0, [3], [3], [0], [], (São Cristóvão, 2093167...   \n",
              "\n",
              "                                             imagens  \\\n",
              "0  [(39d6282a-71f3-47bc-94aa-909351ecd881, https:...   \n",
              "1  [(23d2b3ab-45b0-47f2-a27f-ffbe066c2c38, https:...   \n",
              "2  [(1da65baa-368b-490f-bef7-1834b9a428c1, https:...   \n",
              "3  [(79b542c6-49b4-4f06-80b5-ef4fcdf98f76, https:...   \n",
              "4  [(e2bc497b-6510-4731-8942-97b3d3cdab5e, https:...   \n",
              "\n",
              "                                            usuario  \n",
              "0     (9d44563d-3405-4e84-9381-35b7cf40a9a4, Frank)  \n",
              "1  (36245be7-70fe-40cd-84d4-70a57dc8f976, Caroline)  \n",
              "2    (9dc415d8-1397-4d8d-8425-b8310fad309d, Oliver)  \n",
              "3   (9911a2df-f299-4a73-a384-281417abaf69, Matthew)  \n",
              "4      (240a7aab-12e5-4069-9a2c-9dca4c4f9c68, Jude)  "
            ],
            "text/html": [
              "\n",
              "  <div id=\"df-be54e889-00cf-48f9-b3c3-88cf31938646\">\n",
              "    <div class=\"colab-df-container\">\n",
              "      <div>\n",
              "<style scoped>\n",
              "    .dataframe tbody tr th:only-of-type {\n",
              "        vertical-align: middle;\n",
              "    }\n",
              "\n",
              "    .dataframe tbody tr th {\n",
              "        vertical-align: top;\n",
              "    }\n",
              "\n",
              "    .dataframe thead th {\n",
              "        text-align: right;\n",
              "    }\n",
              "</style>\n",
              "<table border=\"1\" class=\"dataframe\">\n",
              "  <thead>\n",
              "    <tr style=\"text-align: right;\">\n",
              "      <th></th>\n",
              "      <th>anuncio</th>\n",
              "      <th>imagens</th>\n",
              "      <th>usuario</th>\n",
              "    </tr>\n",
              "  </thead>\n",
              "  <tbody>\n",
              "    <tr>\n",
              "      <th>0</th>\n",
              "      <td>(0, [], [16], [0], [], (Centro, 20061003, Rio ...</td>\n",
              "      <td>[(39d6282a-71f3-47bc-94aa-909351ecd881, https:...</td>\n",
              "      <td>(9d44563d-3405-4e84-9381-35b7cf40a9a4, Frank)</td>\n",
              "    </tr>\n",
              "    <tr>\n",
              "      <th>1</th>\n",
              "      <td>(0, [], [14], [0], [], (Centro, 20051040, Rio ...</td>\n",
              "      <td>[(23d2b3ab-45b0-47f2-a27f-ffbe066c2c38, https:...</td>\n",
              "      <td>(36245be7-70fe-40cd-84d4-70a57dc8f976, Caroline)</td>\n",
              "    </tr>\n",
              "    <tr>\n",
              "      <th>2</th>\n",
              "      <td>(0, [1026], [1026], [0], [], (Maria da Graça, ...</td>\n",
              "      <td>[(1da65baa-368b-490f-bef7-1834b9a428c1, https:...</td>\n",
              "      <td>(9dc415d8-1397-4d8d-8425-b8310fad309d, Oliver)</td>\n",
              "    </tr>\n",
              "    <tr>\n",
              "      <th>3</th>\n",
              "      <td>(0, [120], [120], [0], [Portão eletrônico, Con...</td>\n",
              "      <td>[(79b542c6-49b4-4f06-80b5-ef4fcdf98f76, https:...</td>\n",
              "      <td>(9911a2df-f299-4a73-a384-281417abaf69, Matthew)</td>\n",
              "    </tr>\n",
              "    <tr>\n",
              "      <th>4</th>\n",
              "      <td>(0, [3], [3], [0], [], (São Cristóvão, 2093167...</td>\n",
              "      <td>[(e2bc497b-6510-4731-8942-97b3d3cdab5e, https:...</td>\n",
              "      <td>(240a7aab-12e5-4069-9a2c-9dca4c4f9c68, Jude)</td>\n",
              "    </tr>\n",
              "  </tbody>\n",
              "</table>\n",
              "</div>\n",
              "      <button class=\"colab-df-convert\" onclick=\"convertToInteractive('df-be54e889-00cf-48f9-b3c3-88cf31938646')\"\n",
              "              title=\"Convert this dataframe to an interactive table.\"\n",
              "              style=\"display:none;\">\n",
              "        \n",
              "  <svg xmlns=\"http://www.w3.org/2000/svg\" height=\"24px\"viewBox=\"0 0 24 24\"\n",
              "       width=\"24px\">\n",
              "    <path d=\"M0 0h24v24H0V0z\" fill=\"none\"/>\n",
              "    <path d=\"M18.56 5.44l.94 2.06.94-2.06 2.06-.94-2.06-.94-.94-2.06-.94 2.06-2.06.94zm-11 1L8.5 8.5l.94-2.06 2.06-.94-2.06-.94L8.5 2.5l-.94 2.06-2.06.94zm10 10l.94 2.06.94-2.06 2.06-.94-2.06-.94-.94-2.06-.94 2.06-2.06.94z\"/><path d=\"M17.41 7.96l-1.37-1.37c-.4-.4-.92-.59-1.43-.59-.52 0-1.04.2-1.43.59L10.3 9.45l-7.72 7.72c-.78.78-.78 2.05 0 2.83L4 21.41c.39.39.9.59 1.41.59.51 0 1.02-.2 1.41-.59l7.78-7.78 2.81-2.81c.8-.78.8-2.07 0-2.86zM5.41 20L4 18.59l7.72-7.72 1.47 1.35L5.41 20z\"/>\n",
              "  </svg>\n",
              "      </button>\n",
              "      \n",
              "  <style>\n",
              "    .colab-df-container {\n",
              "      display:flex;\n",
              "      flex-wrap:wrap;\n",
              "      gap: 12px;\n",
              "    }\n",
              "\n",
              "    .colab-df-convert {\n",
              "      background-color: #E8F0FE;\n",
              "      border: none;\n",
              "      border-radius: 50%;\n",
              "      cursor: pointer;\n",
              "      display: none;\n",
              "      fill: #1967D2;\n",
              "      height: 32px;\n",
              "      padding: 0 0 0 0;\n",
              "      width: 32px;\n",
              "    }\n",
              "\n",
              "    .colab-df-convert:hover {\n",
              "      background-color: #E2EBFA;\n",
              "      box-shadow: 0px 1px 2px rgba(60, 64, 67, 0.3), 0px 1px 3px 1px rgba(60, 64, 67, 0.15);\n",
              "      fill: #174EA6;\n",
              "    }\n",
              "\n",
              "    [theme=dark] .colab-df-convert {\n",
              "      background-color: #3B4455;\n",
              "      fill: #D2E3FC;\n",
              "    }\n",
              "\n",
              "    [theme=dark] .colab-df-convert:hover {\n",
              "      background-color: #434B5C;\n",
              "      box-shadow: 0px 1px 3px 1px rgba(0, 0, 0, 0.15);\n",
              "      filter: drop-shadow(0px 1px 2px rgba(0, 0, 0, 0.3));\n",
              "      fill: #FFFFFF;\n",
              "    }\n",
              "  </style>\n",
              "\n",
              "      <script>\n",
              "        const buttonEl =\n",
              "          document.querySelector('#df-be54e889-00cf-48f9-b3c3-88cf31938646 button.colab-df-convert');\n",
              "        buttonEl.style.display =\n",
              "          google.colab.kernel.accessAllowed ? 'block' : 'none';\n",
              "\n",
              "        async function convertToInteractive(key) {\n",
              "          const element = document.querySelector('#df-be54e889-00cf-48f9-b3c3-88cf31938646');\n",
              "          const dataTable =\n",
              "            await google.colab.kernel.invokeFunction('convertToInteractive',\n",
              "                                                     [key], {});\n",
              "          if (!dataTable) return;\n",
              "\n",
              "          const docLinkHtml = 'Like what you see? Visit the ' +\n",
              "            '<a target=\"_blank\" href=https://colab.research.google.com/notebooks/data_table.ipynb>data table notebook</a>'\n",
              "            + ' to learn more about interactive tables.';\n",
              "          element.innerHTML = '';\n",
              "          dataTable['output_type'] = 'display_data';\n",
              "          await google.colab.output.renderOutput(dataTable, element);\n",
              "          const docLink = document.createElement('div');\n",
              "          docLink.innerHTML = docLinkHtml;\n",
              "          element.appendChild(docLink);\n",
              "        }\n",
              "      </script>\n",
              "    </div>\n",
              "  </div>\n",
              "  "
            ]
          },
          "metadata": {},
          "execution_count": 10
        }
      ]
    },
    {
      "cell_type": "code",
      "source": [
        "dataset_bruto.printSchema()"
      ],
      "metadata": {
        "id": "rvRHSlEwoizU",
        "colab": {
          "base_uri": "https://localhost:8080/"
        },
        "outputId": "4405d567-4325-4585-8228-6f199ad36037"
      },
      "execution_count": 11,
      "outputs": [
        {
          "output_type": "stream",
          "name": "stdout",
          "text": [
            "root\n",
            " |-- anuncio: struct (nullable = true)\n",
            " |    |-- andar: long (nullable = true)\n",
            " |    |-- area_total: array (nullable = true)\n",
            " |    |    |-- element: string (containsNull = true)\n",
            " |    |-- area_util: array (nullable = true)\n",
            " |    |    |-- element: string (containsNull = true)\n",
            " |    |-- banheiros: array (nullable = true)\n",
            " |    |    |-- element: long (containsNull = true)\n",
            " |    |-- caracteristicas: array (nullable = true)\n",
            " |    |    |-- element: string (containsNull = true)\n",
            " |    |-- endereco: struct (nullable = true)\n",
            " |    |    |-- bairro: string (nullable = true)\n",
            " |    |    |-- cep: string (nullable = true)\n",
            " |    |    |-- cidade: string (nullable = true)\n",
            " |    |    |-- estado: string (nullable = true)\n",
            " |    |    |-- latitude: double (nullable = true)\n",
            " |    |    |-- longitude: double (nullable = true)\n",
            " |    |    |-- pais: string (nullable = true)\n",
            " |    |    |-- rua: string (nullable = true)\n",
            " |    |    |-- zona: string (nullable = true)\n",
            " |    |-- id: string (nullable = true)\n",
            " |    |-- quartos: array (nullable = true)\n",
            " |    |    |-- element: long (containsNull = true)\n",
            " |    |-- suites: array (nullable = true)\n",
            " |    |    |-- element: long (containsNull = true)\n",
            " |    |-- tipo_anuncio: string (nullable = true)\n",
            " |    |-- tipo_unidade: string (nullable = true)\n",
            " |    |-- tipo_uso: string (nullable = true)\n",
            " |    |-- vaga: array (nullable = true)\n",
            " |    |    |-- element: long (containsNull = true)\n",
            " |    |-- valores: array (nullable = true)\n",
            " |    |    |-- element: struct (containsNull = true)\n",
            " |    |    |    |-- condominio: string (nullable = true)\n",
            " |    |    |    |-- iptu: string (nullable = true)\n",
            " |    |    |    |-- tipo: string (nullable = true)\n",
            " |    |    |    |-- valor: string (nullable = true)\n",
            " |-- imagens: array (nullable = true)\n",
            " |    |-- element: struct (containsNull = true)\n",
            " |    |    |-- id: string (nullable = true)\n",
            " |    |    |-- url: string (nullable = true)\n",
            " |-- usuario: struct (nullable = true)\n",
            " |    |-- id: string (nullable = true)\n",
            " |    |-- nome: string (nullable = true)\n",
            "\n"
          ]
        }
      ]
    },
    {
      "cell_type": "markdown",
      "source": [
        "**card: Transformar cada campo da coluna \"anuncio\" em uma coluna** **separada** "
      ],
      "metadata": {
        "id": "PXgp3zXN5zy7"
      }
    },
    {
      "cell_type": "code",
      "source": [
        "anuncio = dataset_bruto\\\n",
        ".select('anuncio.*')"
      ],
      "metadata": {
        "id": "43Y9hlFdJ6jt"
      },
      "execution_count": 12,
      "outputs": []
    },
    {
      "cell_type": "code",
      "source": [
        "anuncio.limit(5).toPandas()"
      ],
      "metadata": {
        "colab": {
          "base_uri": "https://localhost:8080/",
          "height": 424
        },
        "id": "cp0E-N1sYK_3",
        "outputId": "7ff8d6fd-5429-483f-b269-cfee4a376275"
      },
      "execution_count": 13,
      "outputs": [
        {
          "output_type": "execute_result",
          "data": {
            "text/plain": [
              "   andar area_total area_util banheiros  \\\n",
              "0      0         []      [16]       [0]   \n",
              "1      0         []      [14]       [0]   \n",
              "2      0     [1026]    [1026]       [0]   \n",
              "3      0      [120]     [120]       [0]   \n",
              "4      0        [3]       [3]       [0]   \n",
              "\n",
              "                           caracteristicas  \\\n",
              "0                                       []   \n",
              "1                                       []   \n",
              "2                                       []   \n",
              "3  [Portão eletrônico, Condomínio fechado]   \n",
              "4                                       []   \n",
              "\n",
              "                                            endereco  \\\n",
              "0  (Centro, 20061003, Rio de Janeiro, Rio de Jane...   \n",
              "1  (Centro, 20051040, Rio de Janeiro, Rio de Jane...   \n",
              "2  (Maria da Graça, 20785360, Rio de Janeiro, Rio...   \n",
              "3  (Campo Grande, 23095071, Rio de Janeiro, Rio d...   \n",
              "4  (São Cristóvão, 20931670, Rio de Janeiro, Rio ...   \n",
              "\n",
              "                                     id quartos suites tipo_anuncio  \\\n",
              "0  47d553e0-79f2-4a46-9390-5a3c962740c2     [0]    [0]        Usado   \n",
              "1  b6ffbae1-17f6-4870-9950-e998ac1c8d6a     [0]     []        Usado   \n",
              "2  1fb030a5-9e3e-4a1d-93cd-cd2d8a215e11     [0]     []        Usado   \n",
              "3  ac6cb348-69d6-45af-9589-dc34099370d8     [0]     []        Usado   \n",
              "4  e032b908-ef42-4d4a-8125-eba4792bacbe     [0]     []        Usado   \n",
              "\n",
              "  tipo_unidade     tipo_uso vaga                       valores  \n",
              "0       Outros    Comercial  [1]    [(260, 107, Venda, 10000)]  \n",
              "1       Outros    Comercial  [0]    [(260, 107, Venda, 10000)]  \n",
              "2       Outros    Comercial  [0]  [(None, 1613, Venda, 10000)]  \n",
              "3       Outros  Residencial   []    [(80, None, Venda, 10000)]  \n",
              "4       Outros  Residencial   []         [(0, 0, Venda, 5000)]  "
            ],
            "text/html": [
              "\n",
              "  <div id=\"df-fbe5207a-a9eb-4a0c-97cf-65279c088c5b\">\n",
              "    <div class=\"colab-df-container\">\n",
              "      <div>\n",
              "<style scoped>\n",
              "    .dataframe tbody tr th:only-of-type {\n",
              "        vertical-align: middle;\n",
              "    }\n",
              "\n",
              "    .dataframe tbody tr th {\n",
              "        vertical-align: top;\n",
              "    }\n",
              "\n",
              "    .dataframe thead th {\n",
              "        text-align: right;\n",
              "    }\n",
              "</style>\n",
              "<table border=\"1\" class=\"dataframe\">\n",
              "  <thead>\n",
              "    <tr style=\"text-align: right;\">\n",
              "      <th></th>\n",
              "      <th>andar</th>\n",
              "      <th>area_total</th>\n",
              "      <th>area_util</th>\n",
              "      <th>banheiros</th>\n",
              "      <th>caracteristicas</th>\n",
              "      <th>endereco</th>\n",
              "      <th>id</th>\n",
              "      <th>quartos</th>\n",
              "      <th>suites</th>\n",
              "      <th>tipo_anuncio</th>\n",
              "      <th>tipo_unidade</th>\n",
              "      <th>tipo_uso</th>\n",
              "      <th>vaga</th>\n",
              "      <th>valores</th>\n",
              "    </tr>\n",
              "  </thead>\n",
              "  <tbody>\n",
              "    <tr>\n",
              "      <th>0</th>\n",
              "      <td>0</td>\n",
              "      <td>[]</td>\n",
              "      <td>[16]</td>\n",
              "      <td>[0]</td>\n",
              "      <td>[]</td>\n",
              "      <td>(Centro, 20061003, Rio de Janeiro, Rio de Jane...</td>\n",
              "      <td>47d553e0-79f2-4a46-9390-5a3c962740c2</td>\n",
              "      <td>[0]</td>\n",
              "      <td>[0]</td>\n",
              "      <td>Usado</td>\n",
              "      <td>Outros</td>\n",
              "      <td>Comercial</td>\n",
              "      <td>[1]</td>\n",
              "      <td>[(260, 107, Venda, 10000)]</td>\n",
              "    </tr>\n",
              "    <tr>\n",
              "      <th>1</th>\n",
              "      <td>0</td>\n",
              "      <td>[]</td>\n",
              "      <td>[14]</td>\n",
              "      <td>[0]</td>\n",
              "      <td>[]</td>\n",
              "      <td>(Centro, 20051040, Rio de Janeiro, Rio de Jane...</td>\n",
              "      <td>b6ffbae1-17f6-4870-9950-e998ac1c8d6a</td>\n",
              "      <td>[0]</td>\n",
              "      <td>[]</td>\n",
              "      <td>Usado</td>\n",
              "      <td>Outros</td>\n",
              "      <td>Comercial</td>\n",
              "      <td>[0]</td>\n",
              "      <td>[(260, 107, Venda, 10000)]</td>\n",
              "    </tr>\n",
              "    <tr>\n",
              "      <th>2</th>\n",
              "      <td>0</td>\n",
              "      <td>[1026]</td>\n",
              "      <td>[1026]</td>\n",
              "      <td>[0]</td>\n",
              "      <td>[]</td>\n",
              "      <td>(Maria da Graça, 20785360, Rio de Janeiro, Rio...</td>\n",
              "      <td>1fb030a5-9e3e-4a1d-93cd-cd2d8a215e11</td>\n",
              "      <td>[0]</td>\n",
              "      <td>[]</td>\n",
              "      <td>Usado</td>\n",
              "      <td>Outros</td>\n",
              "      <td>Comercial</td>\n",
              "      <td>[0]</td>\n",
              "      <td>[(None, 1613, Venda, 10000)]</td>\n",
              "    </tr>\n",
              "    <tr>\n",
              "      <th>3</th>\n",
              "      <td>0</td>\n",
              "      <td>[120]</td>\n",
              "      <td>[120]</td>\n",
              "      <td>[0]</td>\n",
              "      <td>[Portão eletrônico, Condomínio fechado]</td>\n",
              "      <td>(Campo Grande, 23095071, Rio de Janeiro, Rio d...</td>\n",
              "      <td>ac6cb348-69d6-45af-9589-dc34099370d8</td>\n",
              "      <td>[0]</td>\n",
              "      <td>[]</td>\n",
              "      <td>Usado</td>\n",
              "      <td>Outros</td>\n",
              "      <td>Residencial</td>\n",
              "      <td>[]</td>\n",
              "      <td>[(80, None, Venda, 10000)]</td>\n",
              "    </tr>\n",
              "    <tr>\n",
              "      <th>4</th>\n",
              "      <td>0</td>\n",
              "      <td>[3]</td>\n",
              "      <td>[3]</td>\n",
              "      <td>[0]</td>\n",
              "      <td>[]</td>\n",
              "      <td>(São Cristóvão, 20931670, Rio de Janeiro, Rio ...</td>\n",
              "      <td>e032b908-ef42-4d4a-8125-eba4792bacbe</td>\n",
              "      <td>[0]</td>\n",
              "      <td>[]</td>\n",
              "      <td>Usado</td>\n",
              "      <td>Outros</td>\n",
              "      <td>Residencial</td>\n",
              "      <td>[]</td>\n",
              "      <td>[(0, 0, Venda, 5000)]</td>\n",
              "    </tr>\n",
              "  </tbody>\n",
              "</table>\n",
              "</div>\n",
              "      <button class=\"colab-df-convert\" onclick=\"convertToInteractive('df-fbe5207a-a9eb-4a0c-97cf-65279c088c5b')\"\n",
              "              title=\"Convert this dataframe to an interactive table.\"\n",
              "              style=\"display:none;\">\n",
              "        \n",
              "  <svg xmlns=\"http://www.w3.org/2000/svg\" height=\"24px\"viewBox=\"0 0 24 24\"\n",
              "       width=\"24px\">\n",
              "    <path d=\"M0 0h24v24H0V0z\" fill=\"none\"/>\n",
              "    <path d=\"M18.56 5.44l.94 2.06.94-2.06 2.06-.94-2.06-.94-.94-2.06-.94 2.06-2.06.94zm-11 1L8.5 8.5l.94-2.06 2.06-.94-2.06-.94L8.5 2.5l-.94 2.06-2.06.94zm10 10l.94 2.06.94-2.06 2.06-.94-2.06-.94-.94-2.06-.94 2.06-2.06.94z\"/><path d=\"M17.41 7.96l-1.37-1.37c-.4-.4-.92-.59-1.43-.59-.52 0-1.04.2-1.43.59L10.3 9.45l-7.72 7.72c-.78.78-.78 2.05 0 2.83L4 21.41c.39.39.9.59 1.41.59.51 0 1.02-.2 1.41-.59l7.78-7.78 2.81-2.81c.8-.78.8-2.07 0-2.86zM5.41 20L4 18.59l7.72-7.72 1.47 1.35L5.41 20z\"/>\n",
              "  </svg>\n",
              "      </button>\n",
              "      \n",
              "  <style>\n",
              "    .colab-df-container {\n",
              "      display:flex;\n",
              "      flex-wrap:wrap;\n",
              "      gap: 12px;\n",
              "    }\n",
              "\n",
              "    .colab-df-convert {\n",
              "      background-color: #E8F0FE;\n",
              "      border: none;\n",
              "      border-radius: 50%;\n",
              "      cursor: pointer;\n",
              "      display: none;\n",
              "      fill: #1967D2;\n",
              "      height: 32px;\n",
              "      padding: 0 0 0 0;\n",
              "      width: 32px;\n",
              "    }\n",
              "\n",
              "    .colab-df-convert:hover {\n",
              "      background-color: #E2EBFA;\n",
              "      box-shadow: 0px 1px 2px rgba(60, 64, 67, 0.3), 0px 1px 3px 1px rgba(60, 64, 67, 0.15);\n",
              "      fill: #174EA6;\n",
              "    }\n",
              "\n",
              "    [theme=dark] .colab-df-convert {\n",
              "      background-color: #3B4455;\n",
              "      fill: #D2E3FC;\n",
              "    }\n",
              "\n",
              "    [theme=dark] .colab-df-convert:hover {\n",
              "      background-color: #434B5C;\n",
              "      box-shadow: 0px 1px 3px 1px rgba(0, 0, 0, 0.15);\n",
              "      filter: drop-shadow(0px 1px 2px rgba(0, 0, 0, 0.3));\n",
              "      fill: #FFFFFF;\n",
              "    }\n",
              "  </style>\n",
              "\n",
              "      <script>\n",
              "        const buttonEl =\n",
              "          document.querySelector('#df-fbe5207a-a9eb-4a0c-97cf-65279c088c5b button.colab-df-convert');\n",
              "        buttonEl.style.display =\n",
              "          google.colab.kernel.accessAllowed ? 'block' : 'none';\n",
              "\n",
              "        async function convertToInteractive(key) {\n",
              "          const element = document.querySelector('#df-fbe5207a-a9eb-4a0c-97cf-65279c088c5b');\n",
              "          const dataTable =\n",
              "            await google.colab.kernel.invokeFunction('convertToInteractive',\n",
              "                                                     [key], {});\n",
              "          if (!dataTable) return;\n",
              "\n",
              "          const docLinkHtml = 'Like what you see? Visit the ' +\n",
              "            '<a target=\"_blank\" href=https://colab.research.google.com/notebooks/data_table.ipynb>data table notebook</a>'\n",
              "            + ' to learn more about interactive tables.';\n",
              "          element.innerHTML = '';\n",
              "          dataTable['output_type'] = 'display_data';\n",
              "          await google.colab.output.renderOutput(dataTable, element);\n",
              "          const docLink = document.createElement('div');\n",
              "          docLink.innerHTML = docLinkHtml;\n",
              "          element.appendChild(docLink);\n",
              "        }\n",
              "      </script>\n",
              "    </div>\n",
              "  </div>\n",
              "  "
            ]
          },
          "metadata": {},
          "execution_count": 13
        }
      ]
    },
    {
      "cell_type": "markdown",
      "source": [
        "**card: Filtrar a base de dados**"
      ],
      "metadata": {
        "id": "Vfanw3KpEpzv"
      }
    },
    {
      "cell_type": "code",
      "source": [
        "anuncio\\\n",
        ".select('tipo_uso')\\\n",
        ".groupby('tipo_uso')\\\n",
        ".count()\\\n",
        ".show()"
      ],
      "metadata": {
        "colab": {
          "base_uri": "https://localhost:8080/"
        },
        "id": "MTSIUqILZtkW",
        "outputId": "a5796ef8-7cc8-4b8b-bf3e-4f38fb42acfc"
      },
      "execution_count": 40,
      "outputs": [
        {
          "output_type": "stream",
          "name": "stdout",
          "text": [
            "+-----------+-----+\n",
            "|   tipo_uso|count|\n",
            "+-----------+-----+\n",
            "|  Comercial| 4542|\n",
            "|Residencial|84541|\n",
            "+-----------+-----+\n",
            "\n"
          ]
        }
      ]
    },
    {
      "cell_type": "code",
      "source": [
        "anuncio = anuncio\\\n",
        "    .where(\"tipo_uso == 'Residencial'\")\n",
        "    "
      ],
      "metadata": {
        "id": "Uvrf2IpgBL2W"
      },
      "execution_count": 41,
      "outputs": []
    },
    {
      "cell_type": "code",
      "source": [
        "anuncio.show(10)"
      ],
      "metadata": {
        "colab": {
          "base_uri": "https://localhost:8080/"
        },
        "id": "X2dxTZ1vCwWg",
        "outputId": "ad884662-096a-49a1-a025-419151abac25"
      },
      "execution_count": 42,
      "outputs": [
        {
          "output_type": "stream",
          "name": "stdout",
          "text": [
            "+-----+----------+---------+---------+--------------------+--------------------+--------------------+-------+------+------------+------------+-----------+----+--------------------+\n",
            "|andar|area_total|area_util|banheiros|     caracteristicas|            endereco|                  id|quartos|suites|tipo_anuncio|tipo_unidade|   tipo_uso|vaga|             valores|\n",
            "+-----+----------+---------+---------+--------------------+--------------------+--------------------+-------+------+------------+------------+-----------+----+--------------------+\n",
            "|    0|     [120]|    [120]|      [0]|[Portão eletrônic...|{Campo Grande, 23...|ac6cb348-69d6-45a...|    [0]|    []|       Usado|      Outros|Residencial|  []|[{80, null, Venda...|\n",
            "|    0|       [3]|      [3]|      [0]|                  []|{São Cristóvão, 2...|e032b908-ef42-4d4...|    [0]|    []|       Usado|      Outros|Residencial|  []|[{0, 0, Venda, 50...|\n",
            "|    3|      [43]|     [43]|      [1]|[Academia, Churra...|{Paciência, 23585...|d2e3a3aa-09b5-45a...|    [2]|    []|       Usado| Apartamento|Residencial| [1]|[{245, null, Vend...|\n",
            "|    2|      [42]|     [42]|      [1]|[Churrasqueira, P...|{Paciência, 23585...|085bab2c-87ad-452...|    [2]|    []|       Usado| Apartamento|Residencial| [1]|[{0, 0, Venda, 15...|\n",
            "|    1|      [41]|     [41]|      [1]|[Portaria 24h, Co...|{Guaratiba, 23036...|18d22cbe-1b86-476...|    [2]|    []|       Usado| Apartamento|Residencial| [1]|[{0, 0, Venda, 20...|\n",
            "|    3|      [43]|     [43]|      [1]|[Churrasqueira, P...|{Cosmos, 23066271...|bed8a354-9317-442...|    [2]|    []|       Usado| Apartamento|Residencial| [0]|[{285, null, Vend...|\n",
            "|    2|      [43]|     [43]|      [1]|[Academia, Churra...|{Guaratiba, 23036...|12a13315-d67f-48f...|    [2]|    []|       Usado| Apartamento|Residencial| [1]|[{245, null, Vend...|\n",
            "|    3|      [43]|     [43]|      [1]|[Churrasqueira, P...|{Cosmos, 23066271...|a2e6d7a5-0ff0-484...|    [2]|   [0]|       Usado| Apartamento|Residencial| [0]|[{285, null, Vend...|\n",
            "|    3|      [43]|     [43]|      [1]|[Churrasqueira, P...|{Paciência, 23585...|a6e3173b-c950-4db...|    [2]|    []|       Usado| Apartamento|Residencial| [1]|[{250, null, Vend...|\n",
            "|    3|      [43]|     [43]|      [1]|[Churrasqueira, P...|{Guaratiba, 23036...|2e6e5dfb-206c-496...|    [2]|   [0]|       Usado| Apartamento|Residencial| [1]|[{245, null, Vend...|\n",
            "+-----+----------+---------+---------+--------------------+--------------------+--------------------+-------+------+------------+------------+-----------+----+--------------------+\n",
            "only showing top 10 rows\n",
            "\n"
          ]
        }
      ]
    },
    {
      "cell_type": "code",
      "source": [
        "anuncio\\\n",
        "    .groupby('tipo_unidade')\\\n",
        "    .count()\\\n",
        "    .show()"
      ],
      "metadata": {
        "colab": {
          "base_uri": "https://localhost:8080/"
        },
        "id": "FToyQFx8_2PK",
        "outputId": "3e38713d-8ef7-43a6-b5f7-468a2a887a40"
      },
      "execution_count": 43,
      "outputs": [
        {
          "output_type": "stream",
          "name": "stdout",
          "text": [
            "+------------+-----+\n",
            "|tipo_unidade|count|\n",
            "+------------+-----+\n",
            "|      Outros| 7517|\n",
            "| Apartamento|66797|\n",
            "|        Casa|10227|\n",
            "+------------+-----+\n",
            "\n"
          ]
        }
      ]
    },
    {
      "cell_type": "code",
      "source": [
        "anuncio = anuncio\\\n",
        "    .filter(\"tipo_unidade == 'Apartamento'\")\n",
        "    "
      ],
      "metadata": {
        "id": "9dHnnxxxBYYm"
      },
      "execution_count": 44,
      "outputs": []
    },
    {
      "cell_type": "code",
      "source": [
        "anuncio.show(10)"
      ],
      "metadata": {
        "colab": {
          "base_uri": "https://localhost:8080/"
        },
        "id": "dOaxg3UaDYPu",
        "outputId": "ff897779-8efb-41d5-dbf4-4b5996b00f78"
      },
      "execution_count": 45,
      "outputs": [
        {
          "output_type": "stream",
          "name": "stdout",
          "text": [
            "+-----+----------+---------+---------+--------------------+--------------------+--------------------+-------+------+------------+------------+-----------+----+--------------------+\n",
            "|andar|area_total|area_util|banheiros|     caracteristicas|            endereco|                  id|quartos|suites|tipo_anuncio|tipo_unidade|   tipo_uso|vaga|             valores|\n",
            "+-----+----------+---------+---------+--------------------+--------------------+--------------------+-------+------+------------+------------+-----------+----+--------------------+\n",
            "|    3|      [43]|     [43]|      [1]|[Academia, Churra...|{Paciência, 23585...|d2e3a3aa-09b5-45a...|    [2]|    []|       Usado| Apartamento|Residencial| [1]|[{245, null, Vend...|\n",
            "|    2|      [42]|     [42]|      [1]|[Churrasqueira, P...|{Paciência, 23585...|085bab2c-87ad-452...|    [2]|    []|       Usado| Apartamento|Residencial| [1]|[{0, 0, Venda, 15...|\n",
            "|    1|      [41]|     [41]|      [1]|[Portaria 24h, Co...|{Guaratiba, 23036...|18d22cbe-1b86-476...|    [2]|    []|       Usado| Apartamento|Residencial| [1]|[{0, 0, Venda, 20...|\n",
            "|    3|      [43]|     [43]|      [1]|[Churrasqueira, P...|{Cosmos, 23066271...|bed8a354-9317-442...|    [2]|    []|       Usado| Apartamento|Residencial| [0]|[{285, null, Vend...|\n",
            "|    2|      [43]|     [43]|      [1]|[Academia, Churra...|{Guaratiba, 23036...|12a13315-d67f-48f...|    [2]|    []|       Usado| Apartamento|Residencial| [1]|[{245, null, Vend...|\n",
            "|    3|      [43]|     [43]|      [1]|[Churrasqueira, P...|{Cosmos, 23066271...|a2e6d7a5-0ff0-484...|    [2]|   [0]|       Usado| Apartamento|Residencial| [0]|[{285, null, Vend...|\n",
            "|    3|      [43]|     [43]|      [1]|[Churrasqueira, P...|{Paciência, 23585...|a6e3173b-c950-4db...|    [2]|    []|       Usado| Apartamento|Residencial| [1]|[{250, null, Vend...|\n",
            "|    3|      [43]|     [43]|      [1]|[Churrasqueira, P...|{Guaratiba, 23036...|2e6e5dfb-206c-496...|    [2]|   [0]|       Usado| Apartamento|Residencial| [1]|[{245, null, Vend...|\n",
            "|    3|      [43]|     [43]|      [1]|[Churrasqueira, P...|{Paciência, 23585...|99f8d0f9-95a4-461...|    [2]|   [0]|       Usado| Apartamento|Residencial| [1]|[{245, null, Vend...|\n",
            "|    4|      [43]|     [43]|      [1]|[Churrasqueira, P...|{Guaratiba, 23036...|b3f44c1a-2d50-4d5...|    [2]|    []|       Usado| Apartamento|Residencial| [1]|[{240, null, Vend...|\n",
            "+-----+----------+---------+---------+--------------------+--------------------+--------------------+-------+------+------------+------------+-----------+----+--------------------+\n",
            "only showing top 10 rows\n",
            "\n"
          ]
        }
      ]
    },
    {
      "cell_type": "code",
      "source": [
        "anuncio\\\n",
        "    .groupby('tipo_anuncio')\\\n",
        "    .count()\\\n",
        "    .show()"
      ],
      "metadata": {
        "colab": {
          "base_uri": "https://localhost:8080/"
        },
        "id": "yordni3NA86s",
        "outputId": "3d0f7f85-2e87-4165-a8fd-9211b6da80f1"
      },
      "execution_count": 46,
      "outputs": [
        {
          "output_type": "stream",
          "name": "stdout",
          "text": [
            "+------------+-----+\n",
            "|tipo_anuncio|count|\n",
            "+------------+-----+\n",
            "|       Usado|66562|\n",
            "|  Lançamento|  235|\n",
            "+------------+-----+\n",
            "\n"
          ]
        }
      ]
    },
    {
      "cell_type": "code",
      "source": [
        "anuncio = anuncio\\\n",
        "    .where(\"tipo_anuncio == 'Usado'\")\n",
        "   "
      ],
      "metadata": {
        "id": "IlT1qdZkaf6M"
      },
      "execution_count": 47,
      "outputs": []
    },
    {
      "cell_type": "code",
      "source": [
        "anuncio.show(10)"
      ],
      "metadata": {
        "colab": {
          "base_uri": "https://localhost:8080/"
        },
        "id": "n4LibTZh_cRN",
        "outputId": "bd656ac4-5698-44d8-80e7-3390b135d7e1"
      },
      "execution_count": 48,
      "outputs": [
        {
          "output_type": "stream",
          "name": "stdout",
          "text": [
            "+-----+----------+---------+---------+--------------------+--------------------+--------------------+-------+------+------------+------------+-----------+----+--------------------+\n",
            "|andar|area_total|area_util|banheiros|     caracteristicas|            endereco|                  id|quartos|suites|tipo_anuncio|tipo_unidade|   tipo_uso|vaga|             valores|\n",
            "+-----+----------+---------+---------+--------------------+--------------------+--------------------+-------+------+------------+------------+-----------+----+--------------------+\n",
            "|    3|      [43]|     [43]|      [1]|[Academia, Churra...|{Paciência, 23585...|d2e3a3aa-09b5-45a...|    [2]|    []|       Usado| Apartamento|Residencial| [1]|[{245, null, Vend...|\n",
            "|    2|      [42]|     [42]|      [1]|[Churrasqueira, P...|{Paciência, 23585...|085bab2c-87ad-452...|    [2]|    []|       Usado| Apartamento|Residencial| [1]|[{0, 0, Venda, 15...|\n",
            "|    1|      [41]|     [41]|      [1]|[Portaria 24h, Co...|{Guaratiba, 23036...|18d22cbe-1b86-476...|    [2]|    []|       Usado| Apartamento|Residencial| [1]|[{0, 0, Venda, 20...|\n",
            "|    3|      [43]|     [43]|      [1]|[Churrasqueira, P...|{Cosmos, 23066271...|bed8a354-9317-442...|    [2]|    []|       Usado| Apartamento|Residencial| [0]|[{285, null, Vend...|\n",
            "|    2|      [43]|     [43]|      [1]|[Academia, Churra...|{Guaratiba, 23036...|12a13315-d67f-48f...|    [2]|    []|       Usado| Apartamento|Residencial| [1]|[{245, null, Vend...|\n",
            "|    3|      [43]|     [43]|      [1]|[Churrasqueira, P...|{Cosmos, 23066271...|a2e6d7a5-0ff0-484...|    [2]|   [0]|       Usado| Apartamento|Residencial| [0]|[{285, null, Vend...|\n",
            "|    3|      [43]|     [43]|      [1]|[Churrasqueira, P...|{Paciência, 23585...|a6e3173b-c950-4db...|    [2]|    []|       Usado| Apartamento|Residencial| [1]|[{250, null, Vend...|\n",
            "|    3|      [43]|     [43]|      [1]|[Churrasqueira, P...|{Guaratiba, 23036...|2e6e5dfb-206c-496...|    [2]|   [0]|       Usado| Apartamento|Residencial| [1]|[{245, null, Vend...|\n",
            "|    3|      [43]|     [43]|      [1]|[Churrasqueira, P...|{Paciência, 23585...|99f8d0f9-95a4-461...|    [2]|   [0]|       Usado| Apartamento|Residencial| [1]|[{245, null, Vend...|\n",
            "|    4|      [43]|     [43]|      [1]|[Churrasqueira, P...|{Guaratiba, 23036...|b3f44c1a-2d50-4d5...|    [2]|    []|       Usado| Apartamento|Residencial| [1]|[{240, null, Vend...|\n",
            "+-----+----------+---------+---------+--------------------+--------------------+--------------------+-------+------+------------+------------+-----------+----+--------------------+\n",
            "only showing top 10 rows\n",
            "\n"
          ]
        }
      ]
    },
    {
      "cell_type": "markdown",
      "source": [
        "**card: Transformar as colunas dos cômodos dos imóveis de listas para inteiros**\n",
        "(transforme os dados das colunas \"quartos\", \"suites\", \"banheiros\", \"vaga\", \"area_total\" e \"area_util\" de listas para inteiros.)\n",
        "- analisando os elementos dentro de cada coluna.\n",
        "- aplicando o list comprehension para tranformar os dados em inteiros.\n"
      ],
      "metadata": {
        "id": "AqZnouJGHyxa"
      }
    },
    {
      "cell_type": "code",
      "source": [
        "from pyspark.sql import functions as f"
      ],
      "metadata": {
        "id": "LeqwsYpTDzAF"
      },
      "execution_count": 49,
      "outputs": []
    },
    {
      "cell_type": "code",
      "source": [
        "caracteristicas = ['quartos', 'suites', 'banheiros', 'vaga', 'area_total', 'area_util']"
      ],
      "metadata": {
        "id": "_gYRjJ2RLczN"
      },
      "execution_count": 50,
      "outputs": []
    },
    {
      "cell_type": "code",
      "source": [
        "for col in caracteristicas:\n",
        "  anuncio\\\n",
        "  .select(f.size(f.col(col)).alias(col))\\\n",
        "  .groupBy(col)\\\n",
        "  .count()\\\n",
        "  .show()"
      ],
      "metadata": {
        "colab": {
          "base_uri": "https://localhost:8080/"
        },
        "id": "hZcWMyWSMChc",
        "outputId": "afd9c09d-10f3-4fe4-de1d-08d9131e3a18"
      },
      "execution_count": 51,
      "outputs": [
        {
          "output_type": "stream",
          "name": "stdout",
          "text": [
            "+-------+-----+\n",
            "|quartos|count|\n",
            "+-------+-----+\n",
            "|      1|66562|\n",
            "+-------+-----+\n",
            "\n",
            "+------+-----+\n",
            "|suites|count|\n",
            "+------+-----+\n",
            "|     1|61008|\n",
            "|     0| 5554|\n",
            "+------+-----+\n",
            "\n",
            "+---------+-----+\n",
            "|banheiros|count|\n",
            "+---------+-----+\n",
            "|        1|66562|\n",
            "+---------+-----+\n",
            "\n",
            "+----+-----+\n",
            "|vaga|count|\n",
            "+----+-----+\n",
            "|   1|63545|\n",
            "|   0| 3017|\n",
            "+----+-----+\n",
            "\n",
            "+----------+-----+\n",
            "|area_total|count|\n",
            "+----------+-----+\n",
            "|         1|57368|\n",
            "|         0| 9194|\n",
            "+----------+-----+\n",
            "\n",
            "+---------+-----+\n",
            "|area_util|count|\n",
            "+---------+-----+\n",
            "|        1|66562|\n",
            "+---------+-----+\n",
            "\n"
          ]
        }
      ]
    },
    {
      "cell_type": "code",
      "source": [
        "anuncio = anuncio\\\n",
        "    .select([f.col(c)[0].alias(c) if c in caracteristicas else c for c in anuncio.columns])\n",
        "    "
      ],
      "metadata": {
        "id": "clpMccyqNB7S"
      },
      "execution_count": 53,
      "outputs": []
    },
    {
      "cell_type": "code",
      "source": [
        "anuncio.show()"
      ],
      "metadata": {
        "colab": {
          "base_uri": "https://localhost:8080/"
        },
        "id": "4goPMDHKPACW",
        "outputId": "494c8527-a5dd-4e10-e30b-ec569f49f41b"
      },
      "execution_count": 54,
      "outputs": [
        {
          "output_type": "stream",
          "name": "stdout",
          "text": [
            "+-----+----------+---------+---------+--------------------+--------------------+--------------------+-------+------+------------+------------+-----------+----+--------------------+\n",
            "|andar|area_total|area_util|banheiros|     caracteristicas|            endereco|                  id|quartos|suites|tipo_anuncio|tipo_unidade|   tipo_uso|vaga|             valores|\n",
            "+-----+----------+---------+---------+--------------------+--------------------+--------------------+-------+------+------------+------------+-----------+----+--------------------+\n",
            "|    3|        43|       43|        1|[Academia, Churra...|{Paciência, 23585...|d2e3a3aa-09b5-45a...|      2|  null|       Usado| Apartamento|Residencial|   1|[{245, null, Vend...|\n",
            "|    2|        42|       42|        1|[Churrasqueira, P...|{Paciência, 23585...|085bab2c-87ad-452...|      2|  null|       Usado| Apartamento|Residencial|   1|[{0, 0, Venda, 15...|\n",
            "|    1|        41|       41|        1|[Portaria 24h, Co...|{Guaratiba, 23036...|18d22cbe-1b86-476...|      2|  null|       Usado| Apartamento|Residencial|   1|[{0, 0, Venda, 20...|\n",
            "|    3|        43|       43|        1|[Churrasqueira, P...|{Cosmos, 23066271...|bed8a354-9317-442...|      2|  null|       Usado| Apartamento|Residencial|   0|[{285, null, Vend...|\n",
            "|    2|        43|       43|        1|[Academia, Churra...|{Guaratiba, 23036...|12a13315-d67f-48f...|      2|  null|       Usado| Apartamento|Residencial|   1|[{245, null, Vend...|\n",
            "|    3|        43|       43|        1|[Churrasqueira, P...|{Cosmos, 23066271...|a2e6d7a5-0ff0-484...|      2|     0|       Usado| Apartamento|Residencial|   0|[{285, null, Vend...|\n",
            "|    3|        43|       43|        1|[Churrasqueira, P...|{Paciência, 23585...|a6e3173b-c950-4db...|      2|  null|       Usado| Apartamento|Residencial|   1|[{250, null, Vend...|\n",
            "|    3|        43|       43|        1|[Churrasqueira, P...|{Guaratiba, 23036...|2e6e5dfb-206c-496...|      2|     0|       Usado| Apartamento|Residencial|   1|[{245, null, Vend...|\n",
            "|    3|        43|       43|        1|[Churrasqueira, P...|{Paciência, 23585...|99f8d0f9-95a4-461...|      2|     0|       Usado| Apartamento|Residencial|   1|[{245, null, Vend...|\n",
            "|    4|        43|       43|        1|[Churrasqueira, P...|{Guaratiba, 23036...|b3f44c1a-2d50-4d5...|      2|  null|       Usado| Apartamento|Residencial|   1|[{240, null, Vend...|\n",
            "|    0|        60|       60|        1|[Condomínio fechado]|{Pedra de Guarati...|dc99d9e1-4c63-41f...|      2|  null|       Usado| Apartamento|Residencial|   1|[{0, 0, Venda, 15...|\n",
            "|    1|        43|       43|        1|[Churrasqueira, P...|{Cosmos, 23056630...|aa3606d8-8bcd-45e...|      2|  null|       Usado| Apartamento|Residencial|   1|[{240, 0, Venda, ...|\n",
            "|    0|        43|       43|        1|[Churrasqueira, P...|{Campo Grande, 23...|df80b0d5-677c-4be...|      2|     0|       Usado| Apartamento|Residencial|   0|[{245, null, Vend...|\n",
            "|    2|        43|       43|        1|[Academia, Churra...|{Santa Cruz, 2352...|3d6c0218-9b7d-474...|      2|  null|       Usado| Apartamento|Residencial|   2|[{290, null, Vend...|\n",
            "|    3|        43|       43|        1|[Salão de festas,...|{Guaratiba, 23020...|304266cc-62d1-4ce...|      2|  null|       Usado| Apartamento|Residencial|null|[{285, null, Vend...|\n",
            "|    4|        55|       55|        2|[Academia, Churra...|{Recreio dos Band...|111472a2-afa1-4a7...|      2|     1|       Usado| Apartamento|Residencial|   1|[{0, 0, Venda, 30...|\n",
            "|    0|        45|       45|        1|[Playground, Pisc...|{Cosmos, 23066271...|275c1589-6537-4bf...|      2|     0|       Usado| Apartamento|Residencial|   1|[{null, null, Ven...|\n",
            "|    5|        42|       42|        1|[Condomínio fecha...|{Realengo, 217251...|ab8f367f-7509-45c...|      2|     0|       Usado| Apartamento|Residencial|   0|[{280, 0, Venda, ...|\n",
            "|    1|        43|       43|        1|[Churrasqueira, P...|{Cosmos, 23058001...|e0a3d370-66dd-4f5...|      2|  null|       Usado| Apartamento|Residencial|   1|[{280, null, Vend...|\n",
            "|    3|      null|       55|        1|[Academia, Churra...|{Todos os Santos,...|09c8ba2d-dbf1-487...|      2|     1|       Usado| Apartamento|Residencial|   1|[{0, 0, Venda, 26...|\n",
            "+-----+----------+---------+---------+--------------------+--------------------+--------------------+-------+------+------------+------------+-----------+----+--------------------+\n",
            "only showing top 20 rows\n",
            "\n"
          ]
        }
      ]
    },
    {
      "cell_type": "code",
      "source": [
        "anuncio.printSchema()"
      ],
      "metadata": {
        "colab": {
          "base_uri": "https://localhost:8080/"
        },
        "id": "2t-sjzQHQH9E",
        "outputId": "96d68c1f-4e9f-47a5-d716-17533477d33d"
      },
      "execution_count": 55,
      "outputs": [
        {
          "output_type": "stream",
          "name": "stdout",
          "text": [
            "root\n",
            " |-- andar: long (nullable = true)\n",
            " |-- area_total: string (nullable = true)\n",
            " |-- area_util: string (nullable = true)\n",
            " |-- banheiros: long (nullable = true)\n",
            " |-- caracteristicas: array (nullable = true)\n",
            " |    |-- element: string (containsNull = true)\n",
            " |-- endereco: struct (nullable = true)\n",
            " |    |-- bairro: string (nullable = true)\n",
            " |    |-- cep: string (nullable = true)\n",
            " |    |-- cidade: string (nullable = true)\n",
            " |    |-- estado: string (nullable = true)\n",
            " |    |-- latitude: double (nullable = true)\n",
            " |    |-- longitude: double (nullable = true)\n",
            " |    |-- pais: string (nullable = true)\n",
            " |    |-- rua: string (nullable = true)\n",
            " |    |-- zona: string (nullable = true)\n",
            " |-- id: string (nullable = true)\n",
            " |-- quartos: long (nullable = true)\n",
            " |-- suites: long (nullable = true)\n",
            " |-- tipo_anuncio: string (nullable = true)\n",
            " |-- tipo_unidade: string (nullable = true)\n",
            " |-- tipo_uso: string (nullable = true)\n",
            " |-- vaga: long (nullable = true)\n",
            " |-- valores: array (nullable = true)\n",
            " |    |-- element: struct (containsNull = true)\n",
            " |    |    |-- condominio: string (nullable = true)\n",
            " |    |    |-- iptu: string (nullable = true)\n",
            " |    |    |-- tipo: string (nullable = true)\n",
            " |    |    |-- valor: string (nullable = true)\n",
            "\n"
          ]
        }
      ]
    },
    {
      "cell_type": "code",
      "source": [],
      "metadata": {
        "id": "gERtUKDNRKba"
      },
      "execution_count": null,
      "outputs": []
    }
  ]
}