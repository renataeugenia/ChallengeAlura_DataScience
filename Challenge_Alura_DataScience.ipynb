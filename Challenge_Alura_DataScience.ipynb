{
  "nbformat": 4,
  "nbformat_minor": 0,
  "metadata": {
    "colab": {
      "provenance": [],
      "mount_file_id": "1rA0nV1m3Ve_Cv4SshUbp41UReChKNnTx",
      "authorship_tag": "ABX9TyOm6Wv4Za+TUyL8fIYnm21+",
      "include_colab_link": true
    },
    "kernelspec": {
      "name": "python3",
      "display_name": "Python 3"
    },
    "language_info": {
      "name": "python"
    }
  },
  "cells": [
    {
      "cell_type": "markdown",
      "metadata": {
        "id": "view-in-github",
        "colab_type": "text"
      },
      "source": [
        "<a href=\"https://colab.research.google.com/github/renataeugenia/ChallengeAlura_DataScience/blob/main/Challenge_Alura_DataScience.ipynb\" target=\"_parent\"><img src=\"https://colab.research.google.com/assets/colab-badge.svg\" alt=\"Open In Colab\"/></a>"
      ]
    },
    {
      "cell_type": "markdown",
      "source": [
        "# Desafio Alura Data Science - 1º semana 21/11/2022"
      ],
      "metadata": {
        "id": "oyXN4P7jEWMd"
      }
    },
    {
      "cell_type": "code",
      "execution_count": 1,
      "metadata": {
        "id": "6KT-Ur0ZD_mD"
      },
      "outputs": [],
      "source": [
        "# instalar as dependências\n",
        "!apt-get update -qq\n",
        "!apt-get install openjdk-8-jdk-headless -qq > /dev/null\n",
        "!wget -q https://archive.apache.org/dist/spark/spark-3.1.2/spark-3.1.2-bin-hadoop2.7.tgz\n",
        "!tar xf spark-3.1.2-bin-hadoop2.7.tgz\n",
        "!pip install -q findspark"
      ]
    },
    {
      "cell_type": "code",
      "source": [
        "import os\n",
        "os.environ[\"JAVA_HOME\"] = \"/usr/lib/jvm/java-8-openjdk-amd64\"\n",
        "os.environ[\"SPARK_HOME\"] = \"/content/spark-3.1.2-bin-hadoop2.7\""
      ],
      "metadata": {
        "id": "_RunmgGpaKyp"
      },
      "execution_count": 2,
      "outputs": []
    },
    {
      "cell_type": "code",
      "source": [
        "import findspark\n",
        "findspark.init()"
      ],
      "metadata": {
        "id": "eARYr5cLaPcw"
      },
      "execution_count": 3,
      "outputs": []
    },
    {
      "cell_type": "code",
      "source": [
        "from pyspark.sql import SparkSession\n",
        "\n",
        "spark = SparkSession.builder \\\n",
        "    .master('local[*]') \\\n",
        "    .appName(\"Challenge Alura\") \\\n",
        "    .getOrCreate()"
      ],
      "metadata": {
        "id": "k8IMl_NTaavA"
      },
      "execution_count": 4,
      "outputs": []
    },
    {
      "cell_type": "code",
      "source": [
        "spark"
      ],
      "metadata": {
        "colab": {
          "base_uri": "https://localhost:8080/",
          "height": 222
        },
        "id": "E4pRvWfUb0Pw",
        "outputId": "e074c80c-e41e-4a88-ea8e-1868bee2eeac"
      },
      "execution_count": 5,
      "outputs": [
        {
          "output_type": "execute_result",
          "data": {
            "text/plain": [
              "<pyspark.sql.session.SparkSession at 0x7f9b65d35f10>"
            ],
            "text/html": [
              "\n",
              "            <div>\n",
              "                <p><b>SparkSession - in-memory</b></p>\n",
              "                \n",
              "        <div>\n",
              "            <p><b>SparkContext</b></p>\n",
              "\n",
              "            <p><a href=\"http://9f42c764075b:4040\">Spark UI</a></p>\n",
              "\n",
              "            <dl>\n",
              "              <dt>Version</dt>\n",
              "                <dd><code>v3.1.2</code></dd>\n",
              "              <dt>Master</dt>\n",
              "                <dd><code>local[*]</code></dd>\n",
              "              <dt>AppName</dt>\n",
              "                <dd><code>Challenge Alura</code></dd>\n",
              "            </dl>\n",
              "        </div>\n",
              "        \n",
              "            </div>\n",
              "        "
            ]
          },
          "metadata": {},
          "execution_count": 5
        }
      ]
    },
    {
      "cell_type": "code",
      "source": [
        "import zipfile"
      ],
      "metadata": {
        "id": "2cgzntY8cQS-"
      },
      "execution_count": 6,
      "outputs": []
    },
    {
      "cell_type": "code",
      "source": [
        "zipfile.ZipFile('/content/drive/MyDrive/Challenge_Alura/semana-1.zip', 'r').extractall('/content/drive/MyDrive/Challenge_Alura')"
      ],
      "metadata": {
        "id": "R0i6ymryhQ7Z"
      },
      "execution_count": 7,
      "outputs": []
    },
    {
      "cell_type": "code",
      "source": [
        "path = '/content/drive/MyDrive/Challenge_Alura/dataset_bruto.json'\n",
        "dataset = spark.read.json(path)"
      ],
      "metadata": {
        "id": "lp7A6ln3iKUO"
      },
      "execution_count": 11,
      "outputs": []
    },
    {
      "cell_type": "code",
      "source": [
        "dataset.count()"
      ],
      "metadata": {
        "colab": {
          "base_uri": "https://localhost:8080/"
        },
        "id": "GZNjyd5ll0Y1",
        "outputId": "381b8dc7-bef0-4901-8916-b7c8fea166d0"
      },
      "execution_count": 12,
      "outputs": [
        {
          "output_type": "execute_result",
          "data": {
            "text/plain": [
              "89083"
            ]
          },
          "metadata": {},
          "execution_count": 12
        }
      ]
    },
    {
      "cell_type": "code",
      "source": [
        "dataset.limit(5).toPandas()"
      ],
      "metadata": {
        "colab": {
          "base_uri": "https://localhost:8080/",
          "height": 206
        },
        "id": "tr7vC641mtd_",
        "outputId": "cbf43cdc-b178-4b80-ffc9-b07466b2fa2e"
      },
      "execution_count": 14,
      "outputs": [
        {
          "output_type": "execute_result",
          "data": {
            "text/plain": [
              "                                             anuncio  \\\n",
              "0  (0, [], [16], [0], [], (Centro, 20061003, Rio ...   \n",
              "1  (0, [], [14], [0], [], (Centro, 20051040, Rio ...   \n",
              "2  (0, [1026], [1026], [0], [], (Maria da Graça, ...   \n",
              "3  (0, [120], [120], [0], [Portão eletrônico, Con...   \n",
              "4  (0, [3], [3], [0], [], (São Cristóvão, 2093167...   \n",
              "\n",
              "                                             imagens  \\\n",
              "0  [(39d6282a-71f3-47bc-94aa-909351ecd881, https:...   \n",
              "1  [(23d2b3ab-45b0-47f2-a27f-ffbe066c2c38, https:...   \n",
              "2  [(1da65baa-368b-490f-bef7-1834b9a428c1, https:...   \n",
              "3  [(79b542c6-49b4-4f06-80b5-ef4fcdf98f76, https:...   \n",
              "4  [(e2bc497b-6510-4731-8942-97b3d3cdab5e, https:...   \n",
              "\n",
              "                                            usuario  \n",
              "0     (9d44563d-3405-4e84-9381-35b7cf40a9a4, Frank)  \n",
              "1  (36245be7-70fe-40cd-84d4-70a57dc8f976, Caroline)  \n",
              "2    (9dc415d8-1397-4d8d-8425-b8310fad309d, Oliver)  \n",
              "3   (9911a2df-f299-4a73-a384-281417abaf69, Matthew)  \n",
              "4      (240a7aab-12e5-4069-9a2c-9dca4c4f9c68, Jude)  "
            ],
            "text/html": [
              "\n",
              "  <div id=\"df-18304540-55ee-459e-90f9-6d7720d0ace2\">\n",
              "    <div class=\"colab-df-container\">\n",
              "      <div>\n",
              "<style scoped>\n",
              "    .dataframe tbody tr th:only-of-type {\n",
              "        vertical-align: middle;\n",
              "    }\n",
              "\n",
              "    .dataframe tbody tr th {\n",
              "        vertical-align: top;\n",
              "    }\n",
              "\n",
              "    .dataframe thead th {\n",
              "        text-align: right;\n",
              "    }\n",
              "</style>\n",
              "<table border=\"1\" class=\"dataframe\">\n",
              "  <thead>\n",
              "    <tr style=\"text-align: right;\">\n",
              "      <th></th>\n",
              "      <th>anuncio</th>\n",
              "      <th>imagens</th>\n",
              "      <th>usuario</th>\n",
              "    </tr>\n",
              "  </thead>\n",
              "  <tbody>\n",
              "    <tr>\n",
              "      <th>0</th>\n",
              "      <td>(0, [], [16], [0], [], (Centro, 20061003, Rio ...</td>\n",
              "      <td>[(39d6282a-71f3-47bc-94aa-909351ecd881, https:...</td>\n",
              "      <td>(9d44563d-3405-4e84-9381-35b7cf40a9a4, Frank)</td>\n",
              "    </tr>\n",
              "    <tr>\n",
              "      <th>1</th>\n",
              "      <td>(0, [], [14], [0], [], (Centro, 20051040, Rio ...</td>\n",
              "      <td>[(23d2b3ab-45b0-47f2-a27f-ffbe066c2c38, https:...</td>\n",
              "      <td>(36245be7-70fe-40cd-84d4-70a57dc8f976, Caroline)</td>\n",
              "    </tr>\n",
              "    <tr>\n",
              "      <th>2</th>\n",
              "      <td>(0, [1026], [1026], [0], [], (Maria da Graça, ...</td>\n",
              "      <td>[(1da65baa-368b-490f-bef7-1834b9a428c1, https:...</td>\n",
              "      <td>(9dc415d8-1397-4d8d-8425-b8310fad309d, Oliver)</td>\n",
              "    </tr>\n",
              "    <tr>\n",
              "      <th>3</th>\n",
              "      <td>(0, [120], [120], [0], [Portão eletrônico, Con...</td>\n",
              "      <td>[(79b542c6-49b4-4f06-80b5-ef4fcdf98f76, https:...</td>\n",
              "      <td>(9911a2df-f299-4a73-a384-281417abaf69, Matthew)</td>\n",
              "    </tr>\n",
              "    <tr>\n",
              "      <th>4</th>\n",
              "      <td>(0, [3], [3], [0], [], (São Cristóvão, 2093167...</td>\n",
              "      <td>[(e2bc497b-6510-4731-8942-97b3d3cdab5e, https:...</td>\n",
              "      <td>(240a7aab-12e5-4069-9a2c-9dca4c4f9c68, Jude)</td>\n",
              "    </tr>\n",
              "  </tbody>\n",
              "</table>\n",
              "</div>\n",
              "      <button class=\"colab-df-convert\" onclick=\"convertToInteractive('df-18304540-55ee-459e-90f9-6d7720d0ace2')\"\n",
              "              title=\"Convert this dataframe to an interactive table.\"\n",
              "              style=\"display:none;\">\n",
              "        \n",
              "  <svg xmlns=\"http://www.w3.org/2000/svg\" height=\"24px\"viewBox=\"0 0 24 24\"\n",
              "       width=\"24px\">\n",
              "    <path d=\"M0 0h24v24H0V0z\" fill=\"none\"/>\n",
              "    <path d=\"M18.56 5.44l.94 2.06.94-2.06 2.06-.94-2.06-.94-.94-2.06-.94 2.06-2.06.94zm-11 1L8.5 8.5l.94-2.06 2.06-.94-2.06-.94L8.5 2.5l-.94 2.06-2.06.94zm10 10l.94 2.06.94-2.06 2.06-.94-2.06-.94-.94-2.06-.94 2.06-2.06.94z\"/><path d=\"M17.41 7.96l-1.37-1.37c-.4-.4-.92-.59-1.43-.59-.52 0-1.04.2-1.43.59L10.3 9.45l-7.72 7.72c-.78.78-.78 2.05 0 2.83L4 21.41c.39.39.9.59 1.41.59.51 0 1.02-.2 1.41-.59l7.78-7.78 2.81-2.81c.8-.78.8-2.07 0-2.86zM5.41 20L4 18.59l7.72-7.72 1.47 1.35L5.41 20z\"/>\n",
              "  </svg>\n",
              "      </button>\n",
              "      \n",
              "  <style>\n",
              "    .colab-df-container {\n",
              "      display:flex;\n",
              "      flex-wrap:wrap;\n",
              "      gap: 12px;\n",
              "    }\n",
              "\n",
              "    .colab-df-convert {\n",
              "      background-color: #E8F0FE;\n",
              "      border: none;\n",
              "      border-radius: 50%;\n",
              "      cursor: pointer;\n",
              "      display: none;\n",
              "      fill: #1967D2;\n",
              "      height: 32px;\n",
              "      padding: 0 0 0 0;\n",
              "      width: 32px;\n",
              "    }\n",
              "\n",
              "    .colab-df-convert:hover {\n",
              "      background-color: #E2EBFA;\n",
              "      box-shadow: 0px 1px 2px rgba(60, 64, 67, 0.3), 0px 1px 3px 1px rgba(60, 64, 67, 0.15);\n",
              "      fill: #174EA6;\n",
              "    }\n",
              "\n",
              "    [theme=dark] .colab-df-convert {\n",
              "      background-color: #3B4455;\n",
              "      fill: #D2E3FC;\n",
              "    }\n",
              "\n",
              "    [theme=dark] .colab-df-convert:hover {\n",
              "      background-color: #434B5C;\n",
              "      box-shadow: 0px 1px 3px 1px rgba(0, 0, 0, 0.15);\n",
              "      filter: drop-shadow(0px 1px 2px rgba(0, 0, 0, 0.3));\n",
              "      fill: #FFFFFF;\n",
              "    }\n",
              "  </style>\n",
              "\n",
              "      <script>\n",
              "        const buttonEl =\n",
              "          document.querySelector('#df-18304540-55ee-459e-90f9-6d7720d0ace2 button.colab-df-convert');\n",
              "        buttonEl.style.display =\n",
              "          google.colab.kernel.accessAllowed ? 'block' : 'none';\n",
              "\n",
              "        async function convertToInteractive(key) {\n",
              "          const element = document.querySelector('#df-18304540-55ee-459e-90f9-6d7720d0ace2');\n",
              "          const dataTable =\n",
              "            await google.colab.kernel.invokeFunction('convertToInteractive',\n",
              "                                                     [key], {});\n",
              "          if (!dataTable) return;\n",
              "\n",
              "          const docLinkHtml = 'Like what you see? Visit the ' +\n",
              "            '<a target=\"_blank\" href=https://colab.research.google.com/notebooks/data_table.ipynb>data table notebook</a>'\n",
              "            + ' to learn more about interactive tables.';\n",
              "          element.innerHTML = '';\n",
              "          dataTable['output_type'] = 'display_data';\n",
              "          await google.colab.output.renderOutput(dataTable, element);\n",
              "          const docLink = document.createElement('div');\n",
              "          docLink.innerHTML = docLinkHtml;\n",
              "          element.appendChild(docLink);\n",
              "        }\n",
              "      </script>\n",
              "    </div>\n",
              "  </div>\n",
              "  "
            ]
          },
          "metadata": {},
          "execution_count": 14
        }
      ]
    },
    {
      "cell_type": "code",
      "source": [],
      "metadata": {
        "id": "rvRHSlEwoizU"
      },
      "execution_count": null,
      "outputs": []
    }
  ]
}