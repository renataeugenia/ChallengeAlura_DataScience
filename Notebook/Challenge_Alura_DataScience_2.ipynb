{
  "nbformat": 4,
  "nbformat_minor": 0,
  "metadata": {
    "colab": {
      "provenance": [],
      "mount_file_id": "1oa5BRIO3O_LruzqVTodCGVssEd-P_3Mo",
      "authorship_tag": "ABX9TyNJ4cHpRIh9Zx+yeXY6Ggku",
      "include_colab_link": true
    },
    "kernelspec": {
      "name": "python3",
      "display_name": "Python 3"
    },
    "language_info": {
      "name": "python"
    }
  },
  "cells": [
    {
      "cell_type": "markdown",
      "metadata": {
        "id": "view-in-github",
        "colab_type": "text"
      },
      "source": [
        "<a href=\"https://colab.research.google.com/github/renataeugenia/ChallengeAlura_DataScience/blob/main/Notebook/Challenge_Alura_DataScience_2.ipynb\" target=\"_parent\"><img src=\"https://colab.research.google.com/assets/colab-badge.svg\" alt=\"Open In Colab\"/></a>"
      ]
    },
    {
      "cell_type": "markdown",
      "source": [
        "# Desafio Alura Data Science - 2º fase 19/12/2022"
      ],
      "metadata": {
        "id": "zvYJG9Ql4qXA"
      }
    },
    {
      "cell_type": "code",
      "execution_count": 26,
      "metadata": {
        "id": "xWPuW0u44adc"
      },
      "outputs": [],
      "source": [
        "# instalar as dependências\n",
        "!apt-get update -qq\n",
        "!apt-get install openjdk-8-jdk-headless -qq > /dev/null\n",
        "!wget -q https://archive.apache.org/dist/spark/spark-3.1.2/spark-3.1.2-bin-hadoop2.7.tgz\n",
        "!tar xf spark-3.1.2-bin-hadoop2.7.tgz\n",
        "!pip install -q findspark"
      ]
    },
    {
      "cell_type": "code",
      "source": [
        "import os\n",
        "os.environ[\"JAVA_HOME\"] = \"/usr/lib/jvm/java-8-openjdk-amd64\"\n",
        "os.environ[\"SPARK_HOME\"] = \"/content/spark-3.1.2-bin-hadoop2.7\""
      ],
      "metadata": {
        "id": "mOJnjJDd54o5"
      },
      "execution_count": 27,
      "outputs": []
    },
    {
      "cell_type": "code",
      "source": [
        "import findspark\n",
        "findspark.init()"
      ],
      "metadata": {
        "id": "3rAw7V6058Gp"
      },
      "execution_count": 28,
      "outputs": []
    },
    {
      "cell_type": "code",
      "source": [
        "from pyspark.sql import SparkSession\n",
        "\n",
        "spark = SparkSession.builder \\\n",
        "    .master('local[*]') \\\n",
        "    .appName(\"Challenge Alura fase_2\") \\\n",
        "    .getOrCreate()"
      ],
      "metadata": {
        "id": "oUL7aOry6B9E"
      },
      "execution_count": 29,
      "outputs": []
    },
    {
      "cell_type": "code",
      "source": [
        "spark"
      ],
      "metadata": {
        "colab": {
          "base_uri": "https://localhost:8080/",
          "height": 219
        },
        "id": "ARTMHZl96i87",
        "outputId": "ab9f64bd-6e80-41b9-d77f-c77e3777773c"
      },
      "execution_count": 30,
      "outputs": [
        {
          "output_type": "execute_result",
          "data": {
            "text/plain": [
              "<pyspark.sql.session.SparkSession at 0x7fcdcb1f94f0>"
            ],
            "text/html": [
              "\n",
              "            <div>\n",
              "                <p><b>SparkSession - in-memory</b></p>\n",
              "                \n",
              "        <div>\n",
              "            <p><b>SparkContext</b></p>\n",
              "\n",
              "            <p><a href=\"http://cd2a0bcf8af8:4040\">Spark UI</a></p>\n",
              "\n",
              "            <dl>\n",
              "              <dt>Version</dt>\n",
              "                <dd><code>v3.1.2</code></dd>\n",
              "              <dt>Master</dt>\n",
              "                <dd><code>local[*]</code></dd>\n",
              "              <dt>AppName</dt>\n",
              "                <dd><code>Challenge Alura fase_2</code></dd>\n",
              "            </dl>\n",
              "        </div>\n",
              "        \n",
              "            </div>\n",
              "        "
            ]
          },
          "metadata": {},
          "execution_count": 30
        }
      ]
    },
    {
      "cell_type": "code",
      "source": [
        "%%time\n",
        "dataset_parquet = spark.read.parquet(\n",
        "    '/content/drive/MyDrive/Challenge_Alura/semana-2/dataset_transformado_parquet'\n",
        ")"
      ],
      "metadata": {
        "id": "IMATYGcmIR3Q",
        "colab": {
          "base_uri": "https://localhost:8080/"
        },
        "outputId": "bf9b61e9-2769-45b0-a151-e32ec8d89638"
      },
      "execution_count": 31,
      "outputs": [
        {
          "output_type": "stream",
          "name": "stdout",
          "text": [
            "CPU times: user 2.69 ms, sys: 0 ns, total: 2.69 ms\n",
            "Wall time: 195 ms\n"
          ]
        }
      ]
    },
    {
      "cell_type": "code",
      "source": [
        "dataset_parquet.show(5, truncate=False)"
      ],
      "metadata": {
        "colab": {
          "base_uri": "https://localhost:8080/"
        },
        "id": "jmd_TfC7KmAf",
        "outputId": "b1108f44-89b9-44fb-ae77-699c3bfaa40b"
      },
      "execution_count": 32,
      "outputs": [
        {
          "output_type": "stream",
          "name": "stdout",
          "text": [
            "+------------------------------------+-----+----------+---------+---------+-------------------------------------------------------------------------------------------------------------------------------+-------+------+------------+------------+-----------+----+------------+------------+----------+----+-----+------+\n",
            "|id                                  |andar|area_total|area_util|banheiros|caracteristicas                                                                                                                |quartos|suites|tipo_anuncio|tipo_unidade|tipo_uso   |vaga|bairro      |zona        |condominio|iptu|tipo |valor |\n",
            "+------------------------------------+-----+----------+---------+---------+-------------------------------------------------------------------------------------------------------------------------------+-------+------+------------+------------+-----------+----+------------+------------+----------+----+-----+------+\n",
            "|03a386b6-7ab8-4eff-891d-f8a16efc1989|0    |43        |43       |1        |[Churrasqueira, Academia, Playground, Salão de festas, Condomínio fechado, Portão eletrônico, Portaria 24h, Animais permitidos]|2      |null  |Usado       |Apartamento |Residencial|1   |Realengo    |Zona Oeste  |285       |null|Venda|22999 |\n",
            "|1fe78d41-b8e0-4d21-a1a8-72cb7863f441|0    |44        |44       |1        |[]                                                                                                                             |2      |0     |Usado       |Apartamento |Residencial|0   |Irajá       |Zona Norte  |170       |0   |Venda|110000|\n",
            "|1fa1c1e5-e98c-433f-9675-1b43d7d6da01|4    |null      |55       |1        |[]                                                                                                                             |2      |0     |Usado       |Apartamento |Residencial|1   |Cosmos      |Zona Oeste  |null      |null|Venda|115000|\n",
            "|a6ab01ae-3d40-40e7-bb6a-f2334e0abbe0|2    |null      |55       |1        |[]                                                                                                                             |2      |0     |Usado       |Apartamento |Residencial|0   |Tomás Coelho|Zona Norte  |null      |null|Venda|115000|\n",
            "|1d8ff7a2-16bd-4e3f-a92e-1b85f923ebb0|0    |null      |50       |1        |[]                                                                                                                             |1      |null  |Usado       |Apartamento |Residencial|0   |Centro      |Zona Central|1300      |2679|Venda|125000|\n",
            "+------------------------------------+-----+----------+---------+---------+-------------------------------------------------------------------------------------------------------------------------------+-------+------+------------+------------+-----------+----+------------+------------+----------+----+-----+------+\n",
            "only showing top 5 rows\n",
            "\n"
          ]
        }
      ]
    },
    {
      "cell_type": "code",
      "source": [
        "dataset_parquet.count()"
      ],
      "metadata": {
        "colab": {
          "base_uri": "https://localhost:8080/"
        },
        "id": "nsG_EWhrK3LM",
        "outputId": "2fd80344-c3ae-40f5-b0dc-2c644e03241d"
      },
      "execution_count": 33,
      "outputs": [
        {
          "output_type": "execute_result",
          "data": {
            "text/plain": [
              "66562"
            ]
          },
          "metadata": {},
          "execution_count": 33
        }
      ]
    },
    {
      "cell_type": "markdown",
      "source": [
        "**card: Seleção de features** \n",
        "* ( Analise as colunas area_total e area_util) "
      ],
      "metadata": {
        "id": "94OUhQs9VlSO"
      }
    },
    {
      "cell_type": "code",
      "source": [
        "dataset_parquet.printSchema()"
      ],
      "metadata": {
        "colab": {
          "base_uri": "https://localhost:8080/"
        },
        "id": "8JkccR0tK-c6",
        "outputId": "0c32957b-507b-4d00-83b4-d1a80e0d6f93"
      },
      "execution_count": 34,
      "outputs": [
        {
          "output_type": "stream",
          "name": "stdout",
          "text": [
            "root\n",
            " |-- id: string (nullable = true)\n",
            " |-- andar: long (nullable = true)\n",
            " |-- area_total: string (nullable = true)\n",
            " |-- area_util: string (nullable = true)\n",
            " |-- banheiros: long (nullable = true)\n",
            " |-- caracteristicas: array (nullable = true)\n",
            " |    |-- element: string (containsNull = true)\n",
            " |-- quartos: long (nullable = true)\n",
            " |-- suites: long (nullable = true)\n",
            " |-- tipo_anuncio: string (nullable = true)\n",
            " |-- tipo_unidade: string (nullable = true)\n",
            " |-- tipo_uso: string (nullable = true)\n",
            " |-- vaga: long (nullable = true)\n",
            " |-- bairro: string (nullable = true)\n",
            " |-- zona: string (nullable = true)\n",
            " |-- condominio: string (nullable = true)\n",
            " |-- iptu: string (nullable = true)\n",
            " |-- tipo: string (nullable = true)\n",
            " |-- valor: string (nullable = true)\n",
            "\n"
          ]
        }
      ]
    },
    {
      "cell_type": "code",
      "source": [
        "dataset_parquet\\\n",
        "    .select('area_total', 'area_util')\\\n",
        "    .groupby('area_total', 'area_util')\\\n",
        "    .count()\\\n",
        "    .show()"
      ],
      "metadata": {
        "colab": {
          "base_uri": "https://localhost:8080/"
        },
        "id": "itJ6sgzNT6EI",
        "outputId": "d1914529-bb58-4504-bcf0-3e49560c5b93"
      },
      "execution_count": 35,
      "outputs": [
        {
          "output_type": "stream",
          "name": "stdout",
          "text": [
            "+----------+---------+-----+\n",
            "|area_total|area_util|count|\n",
            "+----------+---------+-----+\n",
            "|       217|      217|   30|\n",
            "|       360|      360|   45|\n",
            "|       600|      600|    8|\n",
            "|        50|       46|    7|\n",
            "|       299|      299|   13|\n",
            "|        72|       66|    2|\n",
            "|       130|      137|    1|\n",
            "|       240|      217|    1|\n",
            "|       221|      201|    1|\n",
            "|       447|      447|    1|\n",
            "|       101|      100|    1|\n",
            "|       165|      150|    1|\n",
            "|      1100|     1100|    1|\n",
            "|       397|      397|    1|\n",
            "|      null|      296|    3|\n",
            "|        70|       69|    4|\n",
            "|       337|      337|   12|\n",
            "|       319|      319|   11|\n",
            "|      null|      125|   40|\n",
            "|      null|      800|    1|\n",
            "+----------+---------+-----+\n",
            "only showing top 20 rows\n",
            "\n"
          ]
        }
      ]
    },
    {
      "cell_type": "markdown",
      "source": [
        "*Essas colunas parecem ter muitos valores iguais (conferir isso é importante). Será que é necessário deixar as duas colunas no nosso DataFrame? Qual delas possui mais dados nulos?*"
      ],
      "metadata": {
        "id": "9OneRDAGgijg"
      }
    },
    {
      "cell_type": "code",
      "source": [
        "dataset_parquet = dataset_parquet\\\n",
        "    .drop('area_total')"
      ],
      "metadata": {
        "id": "rNRFneAPcgKi"
      },
      "execution_count": 38,
      "outputs": []
    },
    {
      "cell_type": "code",
      "source": [
        "dataset_parquet.show(5, truncate=False)"
      ],
      "metadata": {
        "colab": {
          "base_uri": "https://localhost:8080/"
        },
        "id": "hBuiUwu3eu_u",
        "outputId": "4dca4d3b-b951-463d-ea08-658a3d561140"
      },
      "execution_count": 39,
      "outputs": [
        {
          "output_type": "stream",
          "name": "stdout",
          "text": [
            "+------------------------------------+-----+---------+---------+-------------------------------------------------------------------------------------------------------------------------------+-------+------+------------+------------+-----------+----+------------+------------+----------+----+-----+------+\n",
            "|id                                  |andar|area_util|banheiros|caracteristicas                                                                                                                |quartos|suites|tipo_anuncio|tipo_unidade|tipo_uso   |vaga|bairro      |zona        |condominio|iptu|tipo |valor |\n",
            "+------------------------------------+-----+---------+---------+-------------------------------------------------------------------------------------------------------------------------------+-------+------+------------+------------+-----------+----+------------+------------+----------+----+-----+------+\n",
            "|03a386b6-7ab8-4eff-891d-f8a16efc1989|0    |43       |1        |[Churrasqueira, Academia, Playground, Salão de festas, Condomínio fechado, Portão eletrônico, Portaria 24h, Animais permitidos]|2      |null  |Usado       |Apartamento |Residencial|1   |Realengo    |Zona Oeste  |285       |null|Venda|22999 |\n",
            "|1fe78d41-b8e0-4d21-a1a8-72cb7863f441|0    |44       |1        |[]                                                                                                                             |2      |0     |Usado       |Apartamento |Residencial|0   |Irajá       |Zona Norte  |170       |0   |Venda|110000|\n",
            "|1fa1c1e5-e98c-433f-9675-1b43d7d6da01|4    |55       |1        |[]                                                                                                                             |2      |0     |Usado       |Apartamento |Residencial|1   |Cosmos      |Zona Oeste  |null      |null|Venda|115000|\n",
            "|a6ab01ae-3d40-40e7-bb6a-f2334e0abbe0|2    |55       |1        |[]                                                                                                                             |2      |0     |Usado       |Apartamento |Residencial|0   |Tomás Coelho|Zona Norte  |null      |null|Venda|115000|\n",
            "|1d8ff7a2-16bd-4e3f-a92e-1b85f923ebb0|0    |50       |1        |[]                                                                                                                             |1      |null  |Usado       |Apartamento |Residencial|0   |Centro      |Zona Central|1300      |2679|Venda|125000|\n",
            "+------------------------------------+-----+---------+---------+-------------------------------------------------------------------------------------------------------------------------------+-------+------+------------+------------+-----------+----+------------+------------+----------+----+-----+------+\n",
            "only showing top 5 rows\n",
            "\n"
          ]
        }
      ]
    },
    {
      "cell_type": "markdown",
      "source": [
        "**card: Converter os tipos das colunas**\n",
        "* \"andar\", \"banheiros\", \"suites\" e \"quartos\" para o tipo inteiro;\n",
        "* \"area_util\", \"condominio\", \"iptu\" e \"valor\" para o tipo double."
      ],
      "metadata": {
        "id": "dNDrOngTf8iO"
      }
    },
    {
      "cell_type": "code",
      "source": [
        "dataset_parquet.printSchema()"
      ],
      "metadata": {
        "colab": {
          "base_uri": "https://localhost:8080/"
        },
        "id": "HZPmi_lGe81S",
        "outputId": "e116381d-63b6-4fff-b017-fbdaa638b002"
      },
      "execution_count": 40,
      "outputs": [
        {
          "output_type": "stream",
          "name": "stdout",
          "text": [
            "root\n",
            " |-- id: string (nullable = true)\n",
            " |-- andar: long (nullable = true)\n",
            " |-- area_util: string (nullable = true)\n",
            " |-- banheiros: long (nullable = true)\n",
            " |-- caracteristicas: array (nullable = true)\n",
            " |    |-- element: string (containsNull = true)\n",
            " |-- quartos: long (nullable = true)\n",
            " |-- suites: long (nullable = true)\n",
            " |-- tipo_anuncio: string (nullable = true)\n",
            " |-- tipo_unidade: string (nullable = true)\n",
            " |-- tipo_uso: string (nullable = true)\n",
            " |-- vaga: long (nullable = true)\n",
            " |-- bairro: string (nullable = true)\n",
            " |-- zona: string (nullable = true)\n",
            " |-- condominio: string (nullable = true)\n",
            " |-- iptu: string (nullable = true)\n",
            " |-- tipo: string (nullable = true)\n",
            " |-- valor: string (nullable = true)\n",
            "\n"
          ]
        }
      ]
    },
    {
      "cell_type": "code",
      "source": [
        "from pyspark.sql.types import IntegerType, DoubleType"
      ],
      "metadata": {
        "id": "mL383fXffOO6"
      },
      "execution_count": 41,
      "outputs": []
    },
    {
      "cell_type": "code",
      "source": [
        "dataset_parquet\\\n",
        "    .withColumn('andar', dataset_parquet['andar'].cast(IntegerType()))\\\n",
        "    .withColumn('banheiros', dataset_parquet['banheiros'].cast(IntegerType()))\\\n",
        "    .withColumn('quartos', dataset_parquet['quartos'].cast(IntegerType()))\\\n",
        "    .withColumn('suites', dataset_parquet['suites'].cast(IntegerType()))\\\n",
        "    .withColumn('vaga', dataset_parquet['vaga'].cast(IntegerType()))\\\n",
        "    .withColumn('area_util', dataset_parquet['area_util'].cast(DoubleType()))\\\n",
        "    .withColumn('condominio', dataset_parquet['condominio'].cast(DoubleType()))\\\n",
        "    .withColumn('iptu', dataset_parquet['iptu'].cast(DoubleType()))\\\n",
        "    .withColumn('valor', dataset_parquet['valor'].cast(DoubleType()))\\\n",
        "    .printSchema()"
      ],
      "metadata": {
        "colab": {
          "base_uri": "https://localhost:8080/"
        },
        "id": "MyKAt2FvhyEV",
        "outputId": "5f2f2e8d-08f8-467d-9a05-d82f21fde424"
      },
      "execution_count": 43,
      "outputs": [
        {
          "output_type": "stream",
          "name": "stdout",
          "text": [
            "root\n",
            " |-- id: string (nullable = true)\n",
            " |-- andar: integer (nullable = true)\n",
            " |-- area_util: double (nullable = true)\n",
            " |-- banheiros: integer (nullable = true)\n",
            " |-- caracteristicas: array (nullable = true)\n",
            " |    |-- element: string (containsNull = true)\n",
            " |-- quartos: integer (nullable = true)\n",
            " |-- suites: integer (nullable = true)\n",
            " |-- tipo_anuncio: string (nullable = true)\n",
            " |-- tipo_unidade: string (nullable = true)\n",
            " |-- tipo_uso: string (nullable = true)\n",
            " |-- vaga: integer (nullable = true)\n",
            " |-- bairro: string (nullable = true)\n",
            " |-- zona: string (nullable = true)\n",
            " |-- condominio: double (nullable = true)\n",
            " |-- iptu: double (nullable = true)\n",
            " |-- tipo: string (nullable = true)\n",
            " |-- valor: double (nullable = true)\n",
            "\n"
          ]
        }
      ]
    },
    {
      "cell_type": "code",
      "source": [
        "dataset_parquet.limit(10).toPandas()"
      ],
      "metadata": {
        "colab": {
          "base_uri": "https://localhost:8080/",
          "height": 581
        },
        "id": "hO6DVFLnlQZu",
        "outputId": "41c01cda-c684-44f1-a730-ec9dd1ff9548"
      },
      "execution_count": 46,
      "outputs": [
        {
          "output_type": "execute_result",
          "data": {
            "text/plain": [
              "                                     id  andar area_util  banheiros  \\\n",
              "0  03a386b6-7ab8-4eff-891d-f8a16efc1989      0        43          1   \n",
              "1  1fe78d41-b8e0-4d21-a1a8-72cb7863f441      0        44          1   \n",
              "2  1fa1c1e5-e98c-433f-9675-1b43d7d6da01      4        55          1   \n",
              "3  a6ab01ae-3d40-40e7-bb6a-f2334e0abbe0      2        55          1   \n",
              "4  1d8ff7a2-16bd-4e3f-a92e-1b85f923ebb0      0        50          1   \n",
              "5  40a2cbde-946b-42da-b7f2-b80057c7a47f      2        47          1   \n",
              "6  be269ddf-a4a3-4a72-bd54-93cdccf512dd      0        45          1   \n",
              "7  4b7e3d59-34fd-4bac-9232-1015cb3b3a24      3        48          1   \n",
              "8  a1a0c2ac-4fa8-4b02-a087-f9d76b6bccb7      9        55          1   \n",
              "9  390d2b88-e06d-47e5-ba7f-a680130ac5f0      0        70          2   \n",
              "\n",
              "                                     caracteristicas  quartos  suites  \\\n",
              "0  [Churrasqueira, Academia, Playground, Salão de...        2     NaN   \n",
              "1                                                 []        2     0.0   \n",
              "2                                                 []        2     0.0   \n",
              "3                                                 []        2     0.0   \n",
              "4                                                 []        1     NaN   \n",
              "5  [Condomínio fechado, Portaria 24h, Salão de fe...        2     0.0   \n",
              "6       [Churrasqueira, Condomínio fechado, Piscina]        2     0.0   \n",
              "7  [Churrasqueira, Piscina, Playground, Salão de ...        2     NaN   \n",
              "8  [Churrasqueira, Elevador, Salão de festas, Con...        2     NaN   \n",
              "9                                  [Salão de festas]        2     0.0   \n",
              "\n",
              "  tipo_anuncio tipo_unidade     tipo_uso  vaga                   bairro  \\\n",
              "0        Usado  Apartamento  Residencial     1                 Realengo   \n",
              "1        Usado  Apartamento  Residencial     0                    Irajá   \n",
              "2        Usado  Apartamento  Residencial     1                   Cosmos   \n",
              "3        Usado  Apartamento  Residencial     0             Tomás Coelho   \n",
              "4        Usado  Apartamento  Residencial     0                   Centro   \n",
              "5        Usado  Apartamento  Residencial     1             Campo Grande   \n",
              "6        Usado  Apartamento  Residencial     1             Campo Grande   \n",
              "7        Usado  Apartamento  Residencial     1             Campo Grande   \n",
              "8        Usado  Apartamento  Residencial     1  Freguesia (Jacarepaguá)   \n",
              "9        Usado  Apartamento  Residencial     1               Praça Seca   \n",
              "\n",
              "           zona condominio  iptu   tipo   valor  \n",
              "0    Zona Oeste        285  None  Venda   22999  \n",
              "1    Zona Norte        170     0  Venda  110000  \n",
              "2    Zona Oeste       None  None  Venda  115000  \n",
              "3    Zona Norte       None  None  Venda  115000  \n",
              "4  Zona Central       1300  2679  Venda  125000  \n",
              "5    Zona Oeste        380  None  Venda  138000  \n",
              "6    Zona Oeste        356     0  Venda  140000  \n",
              "7    Zona Oeste          0     0  Venda  150000  \n",
              "8    Zona Oeste        780   660  Venda  160000  \n",
              "9    Zona Oeste     420000  None  Venda  159000  "
            ],
            "text/html": [
              "\n",
              "  <div id=\"df-8b5610c9-e722-4301-98ec-94146e8cd7b3\">\n",
              "    <div class=\"colab-df-container\">\n",
              "      <div>\n",
              "<style scoped>\n",
              "    .dataframe tbody tr th:only-of-type {\n",
              "        vertical-align: middle;\n",
              "    }\n",
              "\n",
              "    .dataframe tbody tr th {\n",
              "        vertical-align: top;\n",
              "    }\n",
              "\n",
              "    .dataframe thead th {\n",
              "        text-align: right;\n",
              "    }\n",
              "</style>\n",
              "<table border=\"1\" class=\"dataframe\">\n",
              "  <thead>\n",
              "    <tr style=\"text-align: right;\">\n",
              "      <th></th>\n",
              "      <th>id</th>\n",
              "      <th>andar</th>\n",
              "      <th>area_util</th>\n",
              "      <th>banheiros</th>\n",
              "      <th>caracteristicas</th>\n",
              "      <th>quartos</th>\n",
              "      <th>suites</th>\n",
              "      <th>tipo_anuncio</th>\n",
              "      <th>tipo_unidade</th>\n",
              "      <th>tipo_uso</th>\n",
              "      <th>vaga</th>\n",
              "      <th>bairro</th>\n",
              "      <th>zona</th>\n",
              "      <th>condominio</th>\n",
              "      <th>iptu</th>\n",
              "      <th>tipo</th>\n",
              "      <th>valor</th>\n",
              "    </tr>\n",
              "  </thead>\n",
              "  <tbody>\n",
              "    <tr>\n",
              "      <th>0</th>\n",
              "      <td>03a386b6-7ab8-4eff-891d-f8a16efc1989</td>\n",
              "      <td>0</td>\n",
              "      <td>43</td>\n",
              "      <td>1</td>\n",
              "      <td>[Churrasqueira, Academia, Playground, Salão de...</td>\n",
              "      <td>2</td>\n",
              "      <td>NaN</td>\n",
              "      <td>Usado</td>\n",
              "      <td>Apartamento</td>\n",
              "      <td>Residencial</td>\n",
              "      <td>1</td>\n",
              "      <td>Realengo</td>\n",
              "      <td>Zona Oeste</td>\n",
              "      <td>285</td>\n",
              "      <td>None</td>\n",
              "      <td>Venda</td>\n",
              "      <td>22999</td>\n",
              "    </tr>\n",
              "    <tr>\n",
              "      <th>1</th>\n",
              "      <td>1fe78d41-b8e0-4d21-a1a8-72cb7863f441</td>\n",
              "      <td>0</td>\n",
              "      <td>44</td>\n",
              "      <td>1</td>\n",
              "      <td>[]</td>\n",
              "      <td>2</td>\n",
              "      <td>0.0</td>\n",
              "      <td>Usado</td>\n",
              "      <td>Apartamento</td>\n",
              "      <td>Residencial</td>\n",
              "      <td>0</td>\n",
              "      <td>Irajá</td>\n",
              "      <td>Zona Norte</td>\n",
              "      <td>170</td>\n",
              "      <td>0</td>\n",
              "      <td>Venda</td>\n",
              "      <td>110000</td>\n",
              "    </tr>\n",
              "    <tr>\n",
              "      <th>2</th>\n",
              "      <td>1fa1c1e5-e98c-433f-9675-1b43d7d6da01</td>\n",
              "      <td>4</td>\n",
              "      <td>55</td>\n",
              "      <td>1</td>\n",
              "      <td>[]</td>\n",
              "      <td>2</td>\n",
              "      <td>0.0</td>\n",
              "      <td>Usado</td>\n",
              "      <td>Apartamento</td>\n",
              "      <td>Residencial</td>\n",
              "      <td>1</td>\n",
              "      <td>Cosmos</td>\n",
              "      <td>Zona Oeste</td>\n",
              "      <td>None</td>\n",
              "      <td>None</td>\n",
              "      <td>Venda</td>\n",
              "      <td>115000</td>\n",
              "    </tr>\n",
              "    <tr>\n",
              "      <th>3</th>\n",
              "      <td>a6ab01ae-3d40-40e7-bb6a-f2334e0abbe0</td>\n",
              "      <td>2</td>\n",
              "      <td>55</td>\n",
              "      <td>1</td>\n",
              "      <td>[]</td>\n",
              "      <td>2</td>\n",
              "      <td>0.0</td>\n",
              "      <td>Usado</td>\n",
              "      <td>Apartamento</td>\n",
              "      <td>Residencial</td>\n",
              "      <td>0</td>\n",
              "      <td>Tomás Coelho</td>\n",
              "      <td>Zona Norte</td>\n",
              "      <td>None</td>\n",
              "      <td>None</td>\n",
              "      <td>Venda</td>\n",
              "      <td>115000</td>\n",
              "    </tr>\n",
              "    <tr>\n",
              "      <th>4</th>\n",
              "      <td>1d8ff7a2-16bd-4e3f-a92e-1b85f923ebb0</td>\n",
              "      <td>0</td>\n",
              "      <td>50</td>\n",
              "      <td>1</td>\n",
              "      <td>[]</td>\n",
              "      <td>1</td>\n",
              "      <td>NaN</td>\n",
              "      <td>Usado</td>\n",
              "      <td>Apartamento</td>\n",
              "      <td>Residencial</td>\n",
              "      <td>0</td>\n",
              "      <td>Centro</td>\n",
              "      <td>Zona Central</td>\n",
              "      <td>1300</td>\n",
              "      <td>2679</td>\n",
              "      <td>Venda</td>\n",
              "      <td>125000</td>\n",
              "    </tr>\n",
              "    <tr>\n",
              "      <th>5</th>\n",
              "      <td>40a2cbde-946b-42da-b7f2-b80057c7a47f</td>\n",
              "      <td>2</td>\n",
              "      <td>47</td>\n",
              "      <td>1</td>\n",
              "      <td>[Condomínio fechado, Portaria 24h, Salão de fe...</td>\n",
              "      <td>2</td>\n",
              "      <td>0.0</td>\n",
              "      <td>Usado</td>\n",
              "      <td>Apartamento</td>\n",
              "      <td>Residencial</td>\n",
              "      <td>1</td>\n",
              "      <td>Campo Grande</td>\n",
              "      <td>Zona Oeste</td>\n",
              "      <td>380</td>\n",
              "      <td>None</td>\n",
              "      <td>Venda</td>\n",
              "      <td>138000</td>\n",
              "    </tr>\n",
              "    <tr>\n",
              "      <th>6</th>\n",
              "      <td>be269ddf-a4a3-4a72-bd54-93cdccf512dd</td>\n",
              "      <td>0</td>\n",
              "      <td>45</td>\n",
              "      <td>1</td>\n",
              "      <td>[Churrasqueira, Condomínio fechado, Piscina]</td>\n",
              "      <td>2</td>\n",
              "      <td>0.0</td>\n",
              "      <td>Usado</td>\n",
              "      <td>Apartamento</td>\n",
              "      <td>Residencial</td>\n",
              "      <td>1</td>\n",
              "      <td>Campo Grande</td>\n",
              "      <td>Zona Oeste</td>\n",
              "      <td>356</td>\n",
              "      <td>0</td>\n",
              "      <td>Venda</td>\n",
              "      <td>140000</td>\n",
              "    </tr>\n",
              "    <tr>\n",
              "      <th>7</th>\n",
              "      <td>4b7e3d59-34fd-4bac-9232-1015cb3b3a24</td>\n",
              "      <td>3</td>\n",
              "      <td>48</td>\n",
              "      <td>1</td>\n",
              "      <td>[Churrasqueira, Piscina, Playground, Salão de ...</td>\n",
              "      <td>2</td>\n",
              "      <td>NaN</td>\n",
              "      <td>Usado</td>\n",
              "      <td>Apartamento</td>\n",
              "      <td>Residencial</td>\n",
              "      <td>1</td>\n",
              "      <td>Campo Grande</td>\n",
              "      <td>Zona Oeste</td>\n",
              "      <td>0</td>\n",
              "      <td>0</td>\n",
              "      <td>Venda</td>\n",
              "      <td>150000</td>\n",
              "    </tr>\n",
              "    <tr>\n",
              "      <th>8</th>\n",
              "      <td>a1a0c2ac-4fa8-4b02-a087-f9d76b6bccb7</td>\n",
              "      <td>9</td>\n",
              "      <td>55</td>\n",
              "      <td>1</td>\n",
              "      <td>[Churrasqueira, Elevador, Salão de festas, Con...</td>\n",
              "      <td>2</td>\n",
              "      <td>NaN</td>\n",
              "      <td>Usado</td>\n",
              "      <td>Apartamento</td>\n",
              "      <td>Residencial</td>\n",
              "      <td>1</td>\n",
              "      <td>Freguesia (Jacarepaguá)</td>\n",
              "      <td>Zona Oeste</td>\n",
              "      <td>780</td>\n",
              "      <td>660</td>\n",
              "      <td>Venda</td>\n",
              "      <td>160000</td>\n",
              "    </tr>\n",
              "    <tr>\n",
              "      <th>9</th>\n",
              "      <td>390d2b88-e06d-47e5-ba7f-a680130ac5f0</td>\n",
              "      <td>0</td>\n",
              "      <td>70</td>\n",
              "      <td>2</td>\n",
              "      <td>[Salão de festas]</td>\n",
              "      <td>2</td>\n",
              "      <td>0.0</td>\n",
              "      <td>Usado</td>\n",
              "      <td>Apartamento</td>\n",
              "      <td>Residencial</td>\n",
              "      <td>1</td>\n",
              "      <td>Praça Seca</td>\n",
              "      <td>Zona Oeste</td>\n",
              "      <td>420000</td>\n",
              "      <td>None</td>\n",
              "      <td>Venda</td>\n",
              "      <td>159000</td>\n",
              "    </tr>\n",
              "  </tbody>\n",
              "</table>\n",
              "</div>\n",
              "      <button class=\"colab-df-convert\" onclick=\"convertToInteractive('df-8b5610c9-e722-4301-98ec-94146e8cd7b3')\"\n",
              "              title=\"Convert this dataframe to an interactive table.\"\n",
              "              style=\"display:none;\">\n",
              "        \n",
              "  <svg xmlns=\"http://www.w3.org/2000/svg\" height=\"24px\"viewBox=\"0 0 24 24\"\n",
              "       width=\"24px\">\n",
              "    <path d=\"M0 0h24v24H0V0z\" fill=\"none\"/>\n",
              "    <path d=\"M18.56 5.44l.94 2.06.94-2.06 2.06-.94-2.06-.94-.94-2.06-.94 2.06-2.06.94zm-11 1L8.5 8.5l.94-2.06 2.06-.94-2.06-.94L8.5 2.5l-.94 2.06-2.06.94zm10 10l.94 2.06.94-2.06 2.06-.94-2.06-.94-.94-2.06-.94 2.06-2.06.94z\"/><path d=\"M17.41 7.96l-1.37-1.37c-.4-.4-.92-.59-1.43-.59-.52 0-1.04.2-1.43.59L10.3 9.45l-7.72 7.72c-.78.78-.78 2.05 0 2.83L4 21.41c.39.39.9.59 1.41.59.51 0 1.02-.2 1.41-.59l7.78-7.78 2.81-2.81c.8-.78.8-2.07 0-2.86zM5.41 20L4 18.59l7.72-7.72 1.47 1.35L5.41 20z\"/>\n",
              "  </svg>\n",
              "      </button>\n",
              "      \n",
              "  <style>\n",
              "    .colab-df-container {\n",
              "      display:flex;\n",
              "      flex-wrap:wrap;\n",
              "      gap: 12px;\n",
              "    }\n",
              "\n",
              "    .colab-df-convert {\n",
              "      background-color: #E8F0FE;\n",
              "      border: none;\n",
              "      border-radius: 50%;\n",
              "      cursor: pointer;\n",
              "      display: none;\n",
              "      fill: #1967D2;\n",
              "      height: 32px;\n",
              "      padding: 0 0 0 0;\n",
              "      width: 32px;\n",
              "    }\n",
              "\n",
              "    .colab-df-convert:hover {\n",
              "      background-color: #E2EBFA;\n",
              "      box-shadow: 0px 1px 2px rgba(60, 64, 67, 0.3), 0px 1px 3px 1px rgba(60, 64, 67, 0.15);\n",
              "      fill: #174EA6;\n",
              "    }\n",
              "\n",
              "    [theme=dark] .colab-df-convert {\n",
              "      background-color: #3B4455;\n",
              "      fill: #D2E3FC;\n",
              "    }\n",
              "\n",
              "    [theme=dark] .colab-df-convert:hover {\n",
              "      background-color: #434B5C;\n",
              "      box-shadow: 0px 1px 3px 1px rgba(0, 0, 0, 0.15);\n",
              "      filter: drop-shadow(0px 1px 2px rgba(0, 0, 0, 0.3));\n",
              "      fill: #FFFFFF;\n",
              "    }\n",
              "  </style>\n",
              "\n",
              "      <script>\n",
              "        const buttonEl =\n",
              "          document.querySelector('#df-8b5610c9-e722-4301-98ec-94146e8cd7b3 button.colab-df-convert');\n",
              "        buttonEl.style.display =\n",
              "          google.colab.kernel.accessAllowed ? 'block' : 'none';\n",
              "\n",
              "        async function convertToInteractive(key) {\n",
              "          const element = document.querySelector('#df-8b5610c9-e722-4301-98ec-94146e8cd7b3');\n",
              "          const dataTable =\n",
              "            await google.colab.kernel.invokeFunction('convertToInteractive',\n",
              "                                                     [key], {});\n",
              "          if (!dataTable) return;\n",
              "\n",
              "          const docLinkHtml = 'Like what you see? Visit the ' +\n",
              "            '<a target=\"_blank\" href=https://colab.research.google.com/notebooks/data_table.ipynb>data table notebook</a>'\n",
              "            + ' to learn more about interactive tables.';\n",
              "          element.innerHTML = '';\n",
              "          dataTable['output_type'] = 'display_data';\n",
              "          await google.colab.output.renderOutput(dataTable, element);\n",
              "          const docLink = document.createElement('div');\n",
              "          docLink.innerHTML = docLinkHtml;\n",
              "          element.appendChild(docLink);\n",
              "        }\n",
              "      </script>\n",
              "    </div>\n",
              "  </div>\n",
              "  "
            ]
          },
          "metadata": {},
          "execution_count": 46
        }
      ]
    },
    {
      "cell_type": "code",
      "source": [],
      "metadata": {
        "id": "6QT4LR3FnIxb"
      },
      "execution_count": null,
      "outputs": []
    }
  ]
}